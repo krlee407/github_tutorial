{
 "cells": [
  {
   "cell_type": "markdown",
   "metadata": {
    "collapsed": true,
    "deletable": true,
    "editable": true
   },
   "source": [
    "# python 특징\n",
    "\n",
    "+ 플랫폼 독립적  \n",
    "플랫폼 (윈도우, 리눅스, 안드로이드 등 프로그램이 실행되는 운영체제)에   \n",
    "독립적 (os에 상관없이 한번 프로그램을 작성(코드를 짜놓으면)하면 사용가능)  \n",
    "\n",
    "\n",
    "+ 인터프리터 언어 ex) 파이썬, 스칼라   \n",
    "통역기를 사용하는 언어 (소스코드를 바로 실행할 수 있게 지원하는 프로그램 실행방법/ 별도의 번역과정 없이 소스코드를 실행시점에 해석)  \n",
    "간단히 작성, 메모리가 적게 필요, but 실행속도가 느림  \n",
    " vs 컴파일러 언어 ex) C C++ C# JAVA...  \n",
    "   ( 소스코드를 기계어로 먼저 번역, 해당 플랫폼에 최적화되어 프로그램을 실행)  \n",
    "   실행속도가 빠름 but 한번의 많은 기억장소 필요  \n",
    "\n",
    "\n",
    "+ 객체지향  \n",
    "실행순서가 아닌 모듈(객체) 중심으로 프로그램을 작성  \n",
    "\n",
    "\n",
    "+ 동적 타이핑 언어  \n",
    "프로그램이 실행하는 시점에 프로그램이 사용해야 할 데이터에 대한 타입을 결정함  "
   ]
  },
  {
   "cell_type": "markdown",
   "metadata": {
    "deletable": true,
    "editable": true
   },
   "source": [
    "# python 개발환경\n",
    "프로그램을 작성하고 실행시키는 환경\n",
    "\n",
    "1. 어떤 운영체제를 사용할지 (Window, Linux, Mac os... )  \n",
    "2. Python Interpreter   \n",
    "   python(일반적인 파이썬, 기본적인모듈 포함), anaconda(다양한 과학계산용 모듈들을 묶어 패키지)...\n",
    "3. 코드 편집기 (Sublime Text, Pycharm...)  \n"
   ]
  },
  {
   "cell_type": "markdown",
   "metadata": {
    "deletable": true,
    "editable": true
   },
   "source": [
    "### 모듈\n",
    "\n",
    "파이썬에 기본적으로 포함된 몇몇 기능과, 제 3자 패키지에 포함된 기능들은 파이썬을 실행시킬 때 함께 실행되지 않는다.  \n",
    "이 기능을 사용하기 위해서는 모듈을 불러오는 import를 사용해야 한다. (모듈은 R의 패키지라고 생각하면 됩니다!)"
   ]
  },
  {
   "cell_type": "code",
   "execution_count": 2,
   "metadata": {
    "collapsed": false,
    "deletable": true,
    "editable": true
   },
   "outputs": [
    {
     "data": {
      "text/plain": [
       "re.compile(r'[0-9]+', re.IGNORECASE|re.UNICODE)"
      ]
     },
     "execution_count": 2,
     "metadata": {},
     "output_type": "execute_result"
    }
   ],
   "source": [
    "import re\n",
    "my_regex = re.compile(\"[0-9]+\", re.I) # 그 함수와 상수를 사용하기 위해서는 re 다음에 마침표를 붙인 후 함수나 상수의 이름을 이어서 쓰면 된다\n",
    "my_regex"
   ]
  },
  {
   "cell_type": "markdown",
   "metadata": {
    "deletable": true,
    "editable": true
   },
   "source": [
    "코드에서 이미 re를 사용하고 있다면 별칭(alias)을 사용할 수도 있다."
   ]
  },
  {
   "cell_type": "code",
   "execution_count": 3,
   "metadata": {
    "collapsed": true,
    "deletable": true,
    "editable": true
   },
   "outputs": [],
   "source": [
    "import re as regex # re를 regex라는 별칭으로 불러옴\n",
    "p= regex.compile('[a-z]+')"
   ]
  },
  {
   "cell_type": "code",
   "execution_count": 4,
   "metadata": {
    "collapsed": true,
    "deletable": true,
    "editable": true
   },
   "outputs": [],
   "source": [
    "# 관습적으로 사용하는 별칭\n",
    "import matplotlib.pyplot as plt\n",
    "import numpy as np\n",
    "import pandas as pd"
   ]
  },
  {
   "cell_type": "markdown",
   "metadata": {
    "deletable": true,
    "editable": true
   },
   "source": [
    "모듈 하나에서 몇몇 특정 기능만 필요하다면, 해당 기능만 명시해서 불러올 수 있다."
   ]
  },
  {
   "cell_type": "code",
   "execution_count": 4,
   "metadata": {
    "collapsed": true,
    "deletable": true,
    "editable": true
   },
   "outputs": [],
   "source": [
    "from collections import defaultdict, Counter # collections 모듈에서 defaultdict과 Counter를 import 한다\n",
    "lookup = defaultdict(int)\n",
    "# 이런 방식으로 불러왔을 때는 collections 모듈을 모두 import한 게 아니므로, collections.defaultdict이 아니라 defaultdict라고 씀!\n",
    "my_counter = Counter()"
   ]
  },
  {
   "cell_type": "code",
   "execution_count": 5,
   "metadata": {
    "collapsed": true,
    "deletable": true,
    "editable": true
   },
   "outputs": [],
   "source": [
    "import re   # re.compile 이런식으로 사용\n",
    "from re import * # compile 이렇게 re 안붙여도 됨! "
   ]
  },
  {
   "cell_type": "markdown",
   "metadata": {
    "deletable": true,
    "editable": true
   },
   "source": [
    "but 모듈의 기능들을 통째로 불러와서 기존의 변수들을 덮어쓰는 것은 안 좋은 습관이다."
   ]
  },
  {
   "cell_type": "code",
   "execution_count": 5,
   "metadata": {
    "collapsed": false,
    "deletable": true,
    "editable": true
   },
   "outputs": [
    {
     "name": "stdout",
     "output_type": "stream",
     "text": [
      "<function match at 0x00000000025068C8>\n"
     ]
    }
   ],
   "source": [
    "match = 10\n",
    "from re import * # re에서 모든 기능을 import하겠다는 뜻입니다. re에는 match라는 함수가 존재함\n",
    "print (match) # match 함수가 기존의 match 변수를 덮어쓴 것을 볼 수 있죠. 이게 바로 안 좋은 습관이라고 합니당!"
   ]
  },
  {
   "cell_type": "markdown",
   "metadata": {
    "deletable": true,
    "editable": true
   },
   "source": [
    "# 1. 자료형"
   ]
  },
  {
   "cell_type": "markdown",
   "metadata": {
    "deletable": true,
    "editable": true
   },
   "source": [
    "**숫자형**"
   ]
  },
  {
   "cell_type": "code",
   "execution_count": 6,
   "metadata": {
    "collapsed": false,
    "deletable": true,
    "editable": true,
    "scrolled": false
   },
   "outputs": [
    {
     "name": "stdout",
     "output_type": "stream",
     "text": [
      "49\n",
      "2.3333333333333335\n",
      "1\n",
      "2\n"
     ]
    }
   ],
   "source": [
    "print(7**2) # x**y x의 y제곱\n",
    "print(7/3) \n",
    "print(7%3) # 나머지\n",
    "print(7//3) # 몫"
   ]
  },
  {
   "cell_type": "markdown",
   "metadata": {
    "deletable": true,
    "editable": true
   },
   "source": [
    "**문자열**"
   ]
  },
  {
   "cell_type": "code",
   "execution_count": 7,
   "metadata": {
    "collapsed": false,
    "deletable": true,
    "editable": true
   },
   "outputs": [
    {
     "name": "stdout",
     "output_type": "stream",
     "text": [
      "python is fun!\n",
      "pythonpythonpythonpythonpython\n"
     ]
    }
   ],
   "source": [
    "a = 'python'\n",
    "b = \" is fun!\"\n",
    "print(a+b) # 파이썬은 문자열을 더할 수 있음\n",
    "\n",
    "print(a*5) # 곱하기도 가능"
   ]
  },
  {
   "cell_type": "code",
   "execution_count": 8,
   "metadata": {
    "collapsed": false,
    "deletable": true,
    "editable": true
   },
   "outputs": [
    {
     "name": "stdout",
     "output_type": "stream",
     "text": [
      "L\n",
      "n\n",
      "Life\n",
      "Life is too short\n",
      "You need Python\n",
      "Life is too short, You need Python\n",
      "abcde\n",
      "fghijklmnop\n"
     ]
    }
   ],
   "source": [
    "a = \"Life is too short, You need Python\"\n",
    "print(a[0]) # 문자열 인덱싱\n",
    "print(a[-1])\n",
    "\n",
    "print(a[0:4]) # 문자열 슬라이싱 [시작:끝]\n",
    "print(a[:17])\n",
    "print(a[19:])\n",
    "print(a[:]) # 시작~끝\n",
    "\n",
    "b = \"abcdefghijklmnop\" # 두 부분으로 나누려면?\n",
    "print(b[:5])\n",
    "print(b[5:])"
   ]
  },
  {
   "cell_type": "code",
   "execution_count": 9,
   "metadata": {
    "collapsed": false,
    "deletable": true,
    "editable": true
   },
   "outputs": [
    {
     "name": "stdout",
     "output_type": "stream",
     "text": [
      "I eat 3 apples.\n",
      "I eat five apples.\n",
      "I eat 5 apples.\n",
      "I ate 10 apples. so I was sick for three days.\n"
     ]
    }
   ],
   "source": [
    "# 문자열 formatting\n",
    "\n",
    "print(\"I eat %d apples.\" % 3 ) # 숫자를 넣고싶은 자리에 %d (문자열 포맷코드) 를 쓰고, 삽입할 숫자를 뒤에 쓴다.\n",
    "print(\"I eat %s apples.\" % 'five' ) # 문자열 대입\n",
    "\n",
    "number = 5\n",
    "print(\"I eat %d apples.\" % number ) # 숫자값을 나타내는 변수 대입\n",
    "\n",
    "number = 10 \n",
    "day = \"three\" \n",
    "print(\"I ate %d apples. so I was sick for %s days.\" % (number, day)) "
   ]
  },
  {
   "cell_type": "code",
   "execution_count": 10,
   "metadata": {
    "collapsed": false,
    "deletable": true,
    "editable": true
   },
   "outputs": [
    {
     "name": "stdout",
     "output_type": "stream",
     "text": [
      "I eat 3 apples\n",
      "I eat five apples\n",
      "I ate 10 apples. so I was sick for three days.\n",
      "I ate 10 apples. so I was sick for three days.\n",
      "I ate 10 apples. so I was sick for 3 days.\n"
     ]
    }
   ],
   "source": [
    "# 고급 문자열 formatting\n",
    "\n",
    "print(\"I eat {0} apples\".format(3)) # 숫자 삽입\n",
    "print(\"I eat {0} apples\".format(\"five\")) # 문자열 삽입\n",
    "\n",
    "number = 10 \n",
    "day = \"three\"  \n",
    "print(\"I ate {0} apples. so I was sick for {1} days.\".format(number, day)) # 두개 이상 값 삽입\n",
    "print(\"I ate {} apples. so I was sick for {} days.\".format(number, day))\n",
    "print(\"I ate {number} apples. so I was sick for {day} days.\".format(number=10, day=3)) # 이름으로 넣기"
   ]
  },
  {
   "cell_type": "code",
   "execution_count": 11,
   "metadata": {
    "collapsed": false,
    "deletable": true,
    "editable": true,
    "scrolled": true
   },
   "outputs": [
    {
     "name": "stdout",
     "output_type": "stream",
     "text": [
      "1\n",
      "10\n",
      "a,b,c,d\n",
      "hi  \n",
      "  hi\n",
      "hi\n",
      "['Python', 'is', 'best', 'choice']\n"
     ]
    }
   ],
   "source": [
    "# 문자열 자료형은 자체적으로 가지고 있는 함수들이 있다. 이 함수들은 다른말로 문자열 내장함수라고 말한다. \n",
    "# 이 내장함수를 사용하려면 문자열 변수 이름 뒤에 '.'를 붙인 다음에 함수 이름을 써주면 된다. \n",
    "\n",
    "a = \"Python is best choice\" \n",
    "print(a.count('b')) # b의 갯수 반환\n",
    "print(a.find('b')) # b의 위치 반환\n",
    "\n",
    "b = \",\"\n",
    "print(b.join('abcd')) # abcd 사이에 b의 값인 ,를 삽입\n",
    "\n",
    "c = \"  hi  \"\n",
    "print(c.lstrip()) # 왼쪽 공백 지우기\n",
    "print(c.rstrip()) # 오른쪽 공백 지우기\n",
    "print(c.strip()) # 양쪽 공백 지우기\n",
    "\n",
    "d = \"Life is too short\" \n",
    "print(a.split()) # 문자열 나누기 (리스트에 하나씩 들어가게 됨)"
   ]
  },
  {
   "cell_type": "markdown",
   "metadata": {
    "deletable": true,
    "editable": true
   },
   "source": [
    "**리스트**"
   ]
  },
  {
   "cell_type": "markdown",
   "metadata": {
    "deletable": true,
    "editable": true
   },
   "source": [
    "파이썬의 가장 기본적인 데이터 구조, 순서가있는 자료의 집합"
   ]
  },
  {
   "cell_type": "code",
   "execution_count": 13,
   "metadata": {
    "collapsed": false,
    "deletable": true,
    "editable": true,
    "scrolled": false
   },
   "outputs": [
    {
     "name": "stdout",
     "output_type": "stream",
     "text": [
      "['a', 'b', ['Life', 'is']]\n",
      "Life\n",
      "[1, 2]\n",
      "['a', 'b']\n",
      "[1, 3, 5, 7, 9]\n"
     ]
    }
   ],
   "source": [
    "a = [1,2,3,4,5] # [] 대괄호로 감싸고, 각 요소는 쉼표로 구분\n",
    "\n",
    "a = [1, 2, ['a', 'b', ['Life', 'is']]] \n",
    "print(a[2]) # 리스트 인덱싱\n",
    "print(a[2][2][0])\n",
    "\n",
    "print(a[0:2]) # 리스트 슬라이싱\n",
    "print(a[2][:2])\n",
    "\n",
    "b = [1,2,3,4,5,6,7,8,9,10]\n",
    "print(b[::2]) # 2씩 건너뛰어가며 불러오기"
   ]
  },
  {
   "cell_type": "code",
   "execution_count": 14,
   "metadata": {
    "collapsed": false,
    "deletable": true,
    "editable": true,
    "scrolled": false
   },
   "outputs": [
    {
     "name": "stdout",
     "output_type": "stream",
     "text": [
      "[1, 2, 3, 4, 5, 6]\n",
      "[1, 2, 3, 1, 2, 3, 1, 2, 3]\n"
     ]
    }
   ],
   "source": [
    "a = [1,2,3]\n",
    "b = [4,5,6]\n",
    "print(a+b) # + 기호는 리스트를 합치는 기능을 함\n",
    "\n",
    "print(a*3) # * 기호는 리스트 반복"
   ]
  },
  {
   "cell_type": "code",
   "execution_count": 15,
   "metadata": {
    "collapsed": false,
    "deletable": true,
    "editable": true,
    "scrolled": true
   },
   "outputs": [
    {
     "name": "stdout",
     "output_type": "stream",
     "text": [
      "[1, 2, 3, 5]\n",
      "[1, 'a', 'b', 'c', 3, 5]\n",
      "[1, 'd', 'e', 'c', 3, 5]\n",
      "[1, ['a', 'b', 'c'], 'e', 'c', 3, 5]\n",
      "[1, 'e', 'c', 3, 5]\n",
      "[1, 'c', 3, 5]\n"
     ]
    }
   ],
   "source": [
    "# 리스트 수정, 삭제\n",
    "\n",
    "a = [1,2,3,4]\n",
    "\n",
    "a[3]=5\n",
    "print(a) # a[3]의 요소가 5로 바뀜\n",
    "\n",
    "a[1:2] = ['a','b','c'] # 연속된 범위의 값 수정\n",
    "print(a)\n",
    "a[1:3] = ['d','e']\n",
    "print(a)\n",
    "a[1] = ['a','b','c']\n",
    "print(a)\n",
    "\n",
    "# a[1:2] = ['a', 'b', 'c']로 수정하는 것과 a[1] = ['a', 'b', 'c']로 수정하는 것은 전혀 다름 !! \n",
    "#a[1:2]는 a[1]에서 a[2] 사이의 리스트를 ['a', 'b', 'c']로 바꾼다는 말\n",
    "\n",
    "a[1:2] = [] # []를 이용해 리스트 요소 삭제\n",
    "print(a)\n",
    "del(a[1]) # del 함수를 이용해 리스트 요소 삭제\n",
    "print(a)"
   ]
  },
  {
   "cell_type": "code",
   "execution_count": 16,
   "metadata": {
    "collapsed": false,
    "deletable": true,
    "editable": true
   },
   "outputs": [
    {
     "name": "stdout",
     "output_type": "stream",
     "text": [
      "[1, 3, 2, 4]\n",
      "[1, 2, 3, 4]\n",
      "2\n",
      "[1, 5, 2, 3, 4]\n",
      "1\n",
      "[0, 1, 2, 3, 4, 5, 6, 7, 8, 9]\n",
      "[1, 2, 3, 4, 5, 6, 7, 8, 9]\n"
     ]
    }
   ],
   "source": [
    "# 리스트 관련 함수\n",
    "\n",
    "a = [1,3,2]\n",
    "a.append(4) # 리스트에 요소 추가\n",
    "print(a)\n",
    "\n",
    "a.sort() # 리스트의 요소 정렬\n",
    "print(a)\n",
    "\n",
    "print(a.index(3)) # 위치 반환\n",
    "\n",
    "a.insert(1,5) # insert(a, b) 리스트의 a번째 위치에 b를 삽입\n",
    "print(a)\n",
    "\n",
    "print(a.count(1)) # 요소 갯수 세기\n",
    "\n",
    "b = list(range(10)) # range 10은 0부터 10 직전까지 , list()로 리스트 만들기\n",
    "print(b)\n",
    "\n",
    "c = list(range(1,10)) # 1부터 10 전까지\n",
    "print(c)"
   ]
  },
  {
   "cell_type": "markdown",
   "metadata": {
    "deletable": true,
    "editable": true
   },
   "source": [
    "리스트는 꼭 복사해서 사용"
   ]
  },
  {
   "cell_type": "code",
   "execution_count": 17,
   "metadata": {
    "collapsed": false,
    "deletable": true,
    "editable": true
   },
   "outputs": [
    {
     "name": "stdout",
     "output_type": "stream",
     "text": [
      "3\n",
      "4\n"
     ]
    }
   ],
   "source": [
    "# 숫자나 문자열은 해당안됨\n",
    "a = 4\n",
    "b = a\n",
    "a = 3\n",
    "print(a)\n",
    "print(b)"
   ]
  },
  {
   "cell_type": "code",
   "execution_count": 18,
   "metadata": {
    "collapsed": false,
    "deletable": true,
    "editable": true
   },
   "outputs": [
    {
     "name": "stdout",
     "output_type": "stream",
     "text": [
      "[1, 4, 3]\n",
      "[1, 4, 3]\n"
     ]
    }
   ],
   "source": [
    "# 리스트와 같은 변경가능 객체일때\n",
    "a = [1,2,3] \n",
    "b = a \n",
    "a[1] = 4 \n",
    "print(a) \n",
    "print(b)"
   ]
  },
  {
   "cell_type": "code",
   "execution_count": 19,
   "metadata": {
    "collapsed": false,
    "deletable": true,
    "editable": true
   },
   "outputs": [
    {
     "name": "stdout",
     "output_type": "stream",
     "text": [
      "[1, 4, 3]\n",
      "[1, 2, 3]\n"
     ]
    }
   ],
   "source": [
    "a = [1, 2, 3] \n",
    "b = a[:] \n",
    "a[1] = 4 \n",
    "print(a) \n",
    "print(b) "
   ]
  },
  {
   "cell_type": "markdown",
   "metadata": {
    "deletable": true,
    "editable": true
   },
   "source": [
    "**튜플**"
   ]
  },
  {
   "cell_type": "code",
   "execution_count": 20,
   "metadata": {
    "collapsed": false,
    "deletable": true,
    "editable": true
   },
   "outputs": [
    {
     "ename": "TypeError",
     "evalue": "'tuple' object doesn't support item deletion",
     "output_type": "error",
     "traceback": [
      "\u001b[0;31m---------------------------------------------------------------------------\u001b[0m",
      "\u001b[0;31mTypeError\u001b[0m                                 Traceback (most recent call last)",
      "\u001b[0;32m<ipython-input-20-c06a94990d23>\u001b[0m in \u001b[0;36m<module>\u001b[0;34m()\u001b[0m\n\u001b[1;32m      5\u001b[0m \u001b[0mt5\u001b[0m \u001b[1;33m=\u001b[0m \u001b[1;33m(\u001b[0m\u001b[1;34m'a'\u001b[0m\u001b[1;33m,\u001b[0m \u001b[1;34m'b'\u001b[0m\u001b[1;33m,\u001b[0m \u001b[1;33m(\u001b[0m\u001b[1;34m'ab'\u001b[0m\u001b[1;33m,\u001b[0m \u001b[1;34m'cd'\u001b[0m\u001b[1;33m)\u001b[0m\u001b[1;33m)\u001b[0m\u001b[1;33m\u001b[0m\u001b[0m\n\u001b[1;32m      6\u001b[0m \u001b[1;33m\u001b[0m\u001b[0m\n\u001b[0;32m----> 7\u001b[0;31m \u001b[1;32mdel\u001b[0m\u001b[1;33m(\u001b[0m\u001b[0mt5\u001b[0m\u001b[1;33m[\u001b[0m\u001b[1;36m0\u001b[0m\u001b[1;33m]\u001b[0m\u001b[1;33m)\u001b[0m \u001b[1;31m# 튜플은 리스트와 달리 요소를 지우거나 변경할 수 없다\u001b[0m\u001b[1;33m\u001b[0m\u001b[0m\n\u001b[0m",
      "\u001b[0;31mTypeError\u001b[0m: 'tuple' object doesn't support item deletion"
     ]
    }
   ],
   "source": [
    "t1 = () \n",
    "t2 = (1,) # 1개의 요소만을 가질 때는 요소 뒤에 콤마(,)를 반드시 붙여야 한다\n",
    "t3 = (1, 2, 3) \n",
    "t4 = 1, 2, 3 \n",
    "t5 = ('a', 'b', ('ab', 'cd')) \n",
    "\n",
    "del(t5[0]) # 튜플은 리스트와 달리 요소를 지우거나 변경할 수 없다"
   ]
  },
  {
   "cell_type": "code",
   "execution_count": 21,
   "metadata": {
    "collapsed": false,
    "deletable": true,
    "editable": true
   },
   "outputs": [
    {
     "name": "stdout",
     "output_type": "stream",
     "text": [
      "(5, 6)\n",
      "5\n",
      "6\n"
     ]
    }
   ],
   "source": [
    "# 함수에서 여러 값을 반환할 때 tuple을 사용하면 편하다\n",
    "\n",
    "def sum_and_product(x,y):\n",
    "    return x+y,x*y\n",
    "\n",
    "sp = sum_and_product(2, 3)\n",
    "s, p = sum_and_product(2,3)\n",
    "\n",
    "print(sp)\n",
    "print(s)\n",
    "print(p)"
   ]
  },
  {
   "cell_type": "code",
   "execution_count": 22,
   "metadata": {
    "collapsed": false,
    "deletable": true,
    "editable": true,
    "scrolled": true
   },
   "outputs": [
    {
     "name": "stdout",
     "output_type": "stream",
     "text": [
      "([5], [6])\n",
      "[15]\n",
      "[50]\n"
     ]
    }
   ],
   "source": [
    "# 위의 과정을 리스트를 이용할 경우\n",
    "\n",
    "def sum_and_product(x,y):\n",
    "    return [x+y],[x*y] # 리스트로 \n",
    "\n",
    "sp = sum_and_product(2, 3)\n",
    "s, p = sum_and_product(5,10)\n",
    "\n",
    "print(sp)\n",
    "print(s)\n",
    "print(p)"
   ]
  },
  {
   "cell_type": "markdown",
   "metadata": {
    "deletable": true,
    "editable": true
   },
   "source": [
    "**딕셔너리**"
   ]
  },
  {
   "cell_type": "markdown",
   "metadata": {
    "deletable": true,
    "editable": true
   },
   "source": [
    "{Key1:Value1, Key2:Value2, Key3:Value3 ...}  \n",
    "Key와 Value라는 것을 한 쌍으로 갖는 자료형  \n",
    "딕셔너리는 리스트나 튜플처럼 순차적으로(sequential) 해당 요소값을 구하지 않고 Key를 통해 Value를 얻는다"
   ]
  },
  {
   "cell_type": "code",
   "execution_count": 23,
   "metadata": {
    "collapsed": false,
    "deletable": true,
    "editable": true
   },
   "outputs": [
    {
     "name": "stdout",
     "output_type": "stream",
     "text": [
      "{1: 'a', 2: 'b'}\n",
      "{1: 'a'}\n"
     ]
    }
   ],
   "source": [
    "dic = {'name':'pey', 'phone':'0119993323', 'birth': '1118'} \n",
    "# Key는 각각 'name', 'phone', 'birth'이고, 각각의 Key에 해당하는 Value는 'pey', '0119993323', '1118'이 된다.\n",
    "\n",
    "a = {1:'a'}\n",
    "a[2] = 'b' # 딕셔너리 추가\n",
    "print(a)\n",
    "\n",
    "del(a[2]) # 딕셔너리 삭제 del a[key] -> 지정한 key에 해당하는 {key : value} 쌍이 삭제됨\n",
    "print(a)"
   ]
  },
  {
   "cell_type": "code",
   "execution_count": 24,
   "metadata": {
    "collapsed": false,
    "deletable": true,
    "editable": true
   },
   "outputs": [
    {
     "name": "stdout",
     "output_type": "stream",
     "text": [
      "pey\n",
      "dict_keys(['name', 'phone', 'birth'])\n",
      "['name', 'phone', 'birth']\n",
      "['pey', '0119993323', '1118']\n",
      "dict_items([('name', 'pey'), ('phone', '0119993323'), ('birth', '1118')])\n",
      "True\n"
     ]
    }
   ],
   "source": [
    "dic = {'name':'pey', 'phone':'0119993323', 'birth': '1118'}\n",
    "\n",
    "print(dic['name']) # key 값으로 value 얻기\n",
    "\n",
    "print(dic.keys()) # 파이썬 3.0 이후 버전에서는 dict_keys라는 객체를 리턴해 줌 -> list() 이용하여 리스트로 만든다\n",
    "print(list(dic.keys()))\n",
    "print(list(dic.values())) # value list 만들기\n",
    "print(dic.items()) # key와 value의 쌍을 튜플로 묶은 값을 dict_items 객체로 돌려줌\n",
    "\n",
    "print('name' in dic) # 해당 key 가 dic에 있는지 조사"
   ]
  },
  {
   "cell_type": "code",
   "execution_count": 25,
   "metadata": {
    "collapsed": false,
    "deletable": true,
    "editable": true,
    "scrolled": false
   },
   "outputs": [
    {
     "name": "stdout",
     "output_type": "stream",
     "text": [
      "name\n",
      "pey\n",
      "phone\n",
      "0119993323\n",
      "birth\n",
      "1118\n"
     ]
    }
   ],
   "source": [
    "for k in dic.keys():\n",
    "    print(k)\n",
    "    print(dic[k])"
   ]
  },
  {
   "cell_type": "markdown",
   "metadata": {
    "deletable": true,
    "editable": true
   },
   "source": [
    "문서에서 단어의 빈도수를 셀 때,  \n",
    "가장 직관적인 방법은 단어를 key로, 빈도수를 value로 지정하는 dict를 생성하는 것이다. 이 때, 각 단어가 dit에 이미 존재하면 값을 증가시키고 존재하지 않는다면 새로운 key와 value를 추가해주면 된다."
   ]
  },
  {
   "cell_type": "code",
   "execution_count": 26,
   "metadata": {
    "collapsed": false,
    "deletable": true,
    "editable": true
   },
   "outputs": [
    {
     "data": {
      "text/plain": [
       "{'가고싶다': 2, '엠티': 1, '회식': 1}"
      ]
     },
     "execution_count": 26,
     "metadata": {},
     "output_type": "execute_result"
    }
   ],
   "source": [
    "words_count = {}\n",
    "document=[\"회식\",\"가고싶다\",\"엠티\",\"가고싶다\"]\n",
    "for word in document: # document에 있는 word에 대해 반복\n",
    "    if word in words_count: # words_count에 word가 이미 있다면\n",
    "        words_count[word] += 1 # 그 value에 1을 더함\n",
    "    else: # 전에 센 적 없는 새로운 word라면\n",
    "        words_count[word] = 1 # 이 word의 value를 1로 해서 딕셔너리에 추가\n",
    "words_count"
   ]
  },
  {
   "cell_type": "code",
   "execution_count": 27,
   "metadata": {
    "collapsed": false,
    "deletable": true,
    "editable": true
   },
   "outputs": [
    {
     "data": {
      "text/plain": [
       "{'가고싶다': 2, '엠티': 1, '회식': 1}"
      ]
     },
     "execution_count": 27,
     "metadata": {},
     "output_type": "execute_result"
    }
   ],
   "source": [
    "# 예외처리를 이용하는 방법\n",
    "\n",
    "words_count = {}\n",
    "for word in document:\n",
    "    try:\n",
    "        words_count[word] += 1\n",
    "    except KeyError: # 센 적 없는 새로운 word라면 에러가 발생합니다, 이 경우에는\n",
    "        words_count[word] = 1 # 이 word의 value를 1로 해서 딕셔너리에 추가해요.\n",
    "words_count"
   ]
  },
  {
   "cell_type": "markdown",
   "metadata": {
    "deletable": true,
    "editable": true
   },
   "source": [
    "defaultdict 이용  \n",
    "새로 생성되는 모든 딕셔너리 키에 대한 기본값 설정  \n",
    "(존재하지 않는 key가 주어진다면 defaultdict는 이 key와 인자에서 주어진 값으로 dict에 새로운 항목을 추가해준다)  \n",
    "defaultdict을 사용하기 위해서는 먼저 collections 모듈에서 defaultdict을 불러와야 함   "
   ]
  },
  {
   "cell_type": "code",
   "execution_count": 28,
   "metadata": {
    "collapsed": false,
    "deletable": true,
    "editable": true
   },
   "outputs": [
    {
     "data": {
      "text/plain": [
       "defaultdict(int, {'가고싶다': 2, '엠티': 1, '회식': 1})"
      ]
     },
     "execution_count": 28,
     "metadata": {},
     "output_type": "execute_result"
    }
   ],
   "source": [
    "from collections import defaultdict\n",
    "\n",
    "words_count2 = defaultdict(int) # int()는 0을 생성. 우리는 count를 value로 하고 싶은 거니까 int를 인자로 하는 것 !\n",
    "for word in document:\n",
    "    words_count2[word] += 1\n",
    "words_count2"
   ]
  },
  {
   "cell_type": "code",
   "execution_count": 29,
   "metadata": {
    "collapsed": false,
    "deletable": true,
    "editable": true
   },
   "outputs": [
    {
     "data": {
      "text/plain": [
       "defaultdict(list, {2: [1, 2]})"
      ]
     },
     "execution_count": 29,
     "metadata": {},
     "output_type": "execute_result"
    }
   ],
   "source": [
    "# list, dict, 직접만든 함수도 가능\n",
    "\n",
    "dd_list = defaultdict(list)\n",
    "dd_list[2].append(1)\n",
    "dd_list[2].append(2)\n",
    "dd_list"
   ]
  },
  {
   "cell_type": "markdown",
   "metadata": {
    "deletable": true,
    "editable": true
   },
   "source": [
    "Counter  \n",
    "Counter는 연속된 값을 defaultdict(int)와 유사한 객체로 변환해 주며, key와 value의 빈도를 연결시켜 준다  \n",
    "(히스토그램을 그릴때 자주 사용한다고 합니당~)"
   ]
  },
  {
   "cell_type": "code",
   "execution_count": 30,
   "metadata": {
    "collapsed": false,
    "deletable": true,
    "editable": true
   },
   "outputs": [
    {
     "data": {
      "text/plain": [
       "Counter({0: 2, 1: 1, 2: 1})"
      ]
     },
     "execution_count": 30,
     "metadata": {},
     "output_type": "execute_result"
    }
   ],
   "source": [
    "from collections import Counter \n",
    "C = Counter([0, 1, 2, 0])\n",
    "C"
   ]
  },
  {
   "cell_type": "code",
   "execution_count": 31,
   "metadata": {
    "collapsed": false,
    "deletable": true,
    "editable": true
   },
   "outputs": [
    {
     "data": {
      "text/plain": [
       "Counter({'가고싶다': 2, '엠티': 1, '회식': 1})"
      ]
     },
     "execution_count": 31,
     "metadata": {},
     "output_type": "execute_result"
    }
   ],
   "source": [
    "# 문서에서 단어의 개수를 셈\n",
    "word_counts = Counter(document)\n",
    "word_counts"
   ]
  },
  {
   "cell_type": "code",
   "execution_count": 32,
   "metadata": {
    "collapsed": false,
    "deletable": true,
    "editable": true
   },
   "outputs": [
    {
     "name": "stdout",
     "output_type": "stream",
     "text": [
      "가고싶다 2\n",
      "회식 1\n",
      "엠티 1\n"
     ]
    }
   ],
   "source": [
    "# 가장 자주 나오는 단어 10개와 이 단어의 빈도수들을 출력\n",
    "for word, count in word_counts.most_common(10):\n",
    "    print (word, count)"
   ]
  },
  {
   "cell_type": "markdown",
   "metadata": {
    "deletable": true,
    "editable": true
   },
   "source": [
    "**집합(set)**"
   ]
  },
  {
   "cell_type": "markdown",
   "metadata": {
    "deletable": true,
    "editable": true
   },
   "source": [
    "리스트나 튜플은 순서가 있기(ordered) 때문에 인덱싱을 통해 자료형의 값을 얻을 수 있지만 set 자료형은 순서가 없기(unordered) 때문에 인덱싱으로 값을 얻을 수 없다. 이는 딕셔너리와 비슷하다. 딕셔너리 역시 순서가 없는 자료형이라 인덱싱을 지원하지 않는다. 만약 set 자료형에 저장된 값을 인덱싱으로 접근하려면 리스트나 튜플로 변환한 후 해야 한다  \n",
    "중복을 허용하지 않는 set의 특징은 자료형의 중복을 제거하기 위한 필터 역할로 종종 사용되기도 한다."
   ]
  },
  {
   "cell_type": "code",
   "execution_count": 33,
   "metadata": {
    "collapsed": false,
    "deletable": true,
    "editable": true
   },
   "outputs": [
    {
     "name": "stdout",
     "output_type": "stream",
     "text": [
      "{1, 2, 3}\n"
     ]
    }
   ],
   "source": [
    "s1 = set([1,2,3,1,2,3])\n",
    "print(s1) # 중복 제거"
   ]
  },
  {
   "cell_type": "code",
   "execution_count": 34,
   "metadata": {
    "collapsed": false,
    "deletable": true,
    "editable": true
   },
   "outputs": [
    {
     "data": {
      "text/plain": [
       "False"
      ]
     },
     "execution_count": 34,
     "metadata": {},
     "output_type": "execute_result"
    }
   ],
   "source": [
    "# in은 set에서 굉장히 빠르게 작동한다.\n",
    "a = [\"a\",\"an\",\"at\"] + [\"yet\",\"you\"]\n",
    "s2 = set(a)\n",
    "\"zip\" in s2 # 빠르게 확인 가능"
   ]
  },
  {
   "cell_type": "markdown",
   "metadata": {
    "deletable": true,
    "editable": true
   },
   "source": [
    "**데이터 형변환**"
   ]
  },
  {
   "cell_type": "code",
   "execution_count": 35,
   "metadata": {
    "collapsed": false,
    "deletable": true,
    "editable": true,
    "scrolled": true
   },
   "outputs": [
    {
     "name": "stdout",
     "output_type": "stream",
     "text": [
      "10\n",
      "76.3\n"
     ]
    },
    {
     "data": {
      "text/plain": [
       "int"
      ]
     },
     "execution_count": 35,
     "metadata": {},
     "output_type": "execute_result"
    }
   ],
   "source": [
    "a = 10.7\n",
    "a = int(a) # 실수형-> 정수형으로 변환\n",
    "print(a) # 실수형-> 정수형 변환 시 소수점 이하 '내림'\n",
    "\n",
    "b = '76.3'\n",
    "b = float(b) # 문자열-> 실수형으로 변환\n",
    "print(b)\n",
    "\n",
    "type(a) # 데이터형 확인"
   ]
  },
  {
   "cell_type": "code",
   "execution_count": 36,
   "metadata": {
    "collapsed": false,
    "deletable": true,
    "editable": true
   },
   "outputs": [
    {
     "ename": "TypeError",
     "evalue": "int() argument must be a string, a bytes-like object or a number, not 'list'",
     "output_type": "error",
     "traceback": [
      "\u001b[0;31m---------------------------------------------------------------------------\u001b[0m",
      "\u001b[0;31mTypeError\u001b[0m                                 Traceback (most recent call last)",
      "\u001b[0;32m<ipython-input-36-14ccccc93465>\u001b[0m in \u001b[0;36m<module>\u001b[0;34m()\u001b[0m\n\u001b[1;32m      1\u001b[0m \u001b[0ma\u001b[0m\u001b[1;33m=\u001b[0m\u001b[1;33m[\u001b[0m\u001b[1;34m'1'\u001b[0m\u001b[1;33m,\u001b[0m\u001b[1;34m'2'\u001b[0m\u001b[1;33m,\u001b[0m\u001b[1;34m'3'\u001b[0m\u001b[1;33m]\u001b[0m\u001b[1;33m\u001b[0m\u001b[0m\n\u001b[0;32m----> 2\u001b[0;31m \u001b[0mint\u001b[0m\u001b[1;33m(\u001b[0m\u001b[0ma\u001b[0m\u001b[1;33m)\u001b[0m \u001b[1;31m# 에러발생\u001b[0m\u001b[1;33m\u001b[0m\u001b[0m\n\u001b[0m",
      "\u001b[0;31mTypeError\u001b[0m: int() argument must be a string, a bytes-like object or a number, not 'list'"
     ]
    }
   ],
   "source": [
    "a=['1','2','3']\n",
    "int(a) # 에러발생"
   ]
  },
  {
   "cell_type": "code",
   "execution_count": 37,
   "metadata": {
    "collapsed": false,
    "deletable": true,
    "editable": true,
    "scrolled": false
   },
   "outputs": [
    {
     "name": "stdout",
     "output_type": "stream",
     "text": [
      "[1, 2, 3]\n"
     ]
    }
   ],
   "source": [
    "a=['1','2','3']\n",
    "print(list(map(int,a)))"
   ]
  },
  {
   "cell_type": "markdown",
   "metadata": {
    "deletable": true,
    "editable": true
   },
   "source": [
    "map(f, iterable)은 함수(f)와 반복 가능한(iterable) 자료형을 입력으로 받는다.  \n",
    "map은 입력 받은 자료형의 각 요소가 함수 f에 의해 수행된 결과를 묶어서 리턴하는 함수이다"
   ]
  },
  {
   "cell_type": "code",
   "execution_count": 38,
   "metadata": {
    "collapsed": false,
    "deletable": true,
    "editable": true,
    "scrolled": true
   },
   "outputs": [
    {
     "name": "stdout",
     "output_type": "stream",
     "text": [
      "<map object at 0x00000000093F6860>\n"
     ]
    },
    {
     "data": {
      "text/plain": [
       "[4, 5, 6, 7, 8, 9, 10, 11, 12, 13]"
      ]
     },
     "execution_count": 38,
     "metadata": {},
     "output_type": "execute_result"
    }
   ],
   "source": [
    "print(map(lambda x:x+4,range(10))) \n",
    "list(map(lambda x:x+4,range(10)))"
   ]
  },
  {
   "cell_type": "markdown",
   "metadata": {
    "deletable": true,
    "editable": true
   },
   "source": [
    "# 2. 제어문"
   ]
  },
  {
   "cell_type": "markdown",
   "metadata": {
    "deletable": true,
    "editable": true
   },
   "source": [
    "파이썬은 코드의 단락을 구분하는 데 들여쓰기를 사용한다"
   ]
  },
  {
   "cell_type": "markdown",
   "metadata": {
    "deletable": true,
    "editable": true
   },
   "source": [
    "**If 문**"
   ]
  },
  {
   "cell_type": "code",
   "execution_count": 39,
   "metadata": {
    "collapsed": false,
    "deletable": true,
    "editable": true
   },
   "outputs": [
    {
     "data": {
      "text/plain": [
       "'when all else fails use else'"
      ]
     },
     "execution_count": 39,
     "metadata": {},
     "output_type": "execute_result"
    }
   ],
   "source": [
    "if 1 > 2:\n",
    "    message = \"if only I were greater than two...\"\n",
    "elif 1 > 3:\n",
    "    message = \"elif stands for 'else if'\"\n",
    "else:\n",
    "    message = \"when all else fails use else\"    \n",
    "message"
   ]
  },
  {
   "cell_type": "code",
   "execution_count": 40,
   "metadata": {
    "collapsed": true,
    "deletable": true,
    "editable": true
   },
   "outputs": [],
   "source": [
    "pocket = ['paper', 'money', 'cellphone'] \n",
    "if 'money' in pocket: \n",
    "     pass # 아무일도 일어나지 않게 설정\n",
    "else: \n",
    "    print(\"카드를 꺼내라\") "
   ]
  },
  {
   "cell_type": "code",
   "execution_count": 41,
   "metadata": {
    "collapsed": true,
    "deletable": true,
    "editable": true
   },
   "outputs": [],
   "source": [
    "# 간략하게 작성\n",
    "if 'money' in pocket: pass \n",
    "else: print(\"카드를 꺼내라\")"
   ]
  },
  {
   "cell_type": "markdown",
   "metadata": {
    "deletable": true,
    "editable": true
   },
   "source": [
    "**for 문**"
   ]
  },
  {
   "cell_type": "code",
   "execution_count": 42,
   "metadata": {
    "collapsed": false,
    "deletable": true,
    "editable": true
   },
   "outputs": [
    {
     "name": "stdout",
     "output_type": "stream",
     "text": [
      "0 is less than 10\n",
      "1 is less than 10\n",
      "2 is less than 10\n",
      "3 is less than 10\n",
      "4 is less than 10\n",
      "5 is less than 10\n",
      "6 is less than 10\n",
      "7 is less than 10\n",
      "8 is less than 10\n",
      "9 is less than 10\n"
     ]
    }
   ],
   "source": [
    "for x in range(10):\n",
    "    print (x, \"is less than 10\")"
   ]
  },
  {
   "cell_type": "code",
   "execution_count": 43,
   "metadata": {
    "collapsed": false,
    "deletable": true,
    "editable": true
   },
   "outputs": [
    {
     "name": "stdout",
     "output_type": "stream",
     "text": [
      "0\n",
      "1\n",
      "2\n",
      "4\n"
     ]
    }
   ],
   "source": [
    "for x in range(10):\n",
    "    if x == 3:\n",
    "        continue # 맨 처음(조건문)으로 다시 돌아가기\n",
    "    if x == 5:\n",
    "        break # 반복문 자체를 종료\n",
    "    print (x)"
   ]
  },
  {
   "cell_type": "code",
   "execution_count": 44,
   "metadata": {
    "collapsed": false,
    "deletable": true,
    "editable": true
   },
   "outputs": [
    {
     "name": "stdout",
     "output_type": "stream",
     "text": [
      "one\n",
      "two\n",
      "three\n"
     ]
    }
   ],
   "source": [
    "# 리스트 이용\n",
    "test_list = ['one', 'two', 'three'] \n",
    "for i in test_list:\n",
    "    print(i)"
   ]
  },
  {
   "cell_type": "code",
   "execution_count": 45,
   "metadata": {
    "collapsed": false,
    "deletable": true,
    "editable": true,
    "scrolled": true
   },
   "outputs": [
    {
     "name": "stdout",
     "output_type": "stream",
     "text": [
      "3\n",
      "7\n",
      "11\n"
     ]
    }
   ],
   "source": [
    "# tuple 이용\n",
    "a = [(1,2), (3,4), (5,6)] \n",
    "for one,two in a:\n",
    "    print(one+two)"
   ]
  },
  {
   "cell_type": "markdown",
   "metadata": {
    "deletable": true,
    "editable": true
   },
   "source": [
    "**리스트 안에 for문 포함하기 list comprehension**"
   ]
  },
  {
   "cell_type": "code",
   "execution_count": 46,
   "metadata": {
    "collapsed": false,
    "deletable": true,
    "editable": true
   },
   "outputs": [
    {
     "name": "stdout",
     "output_type": "stream",
     "text": [
      "[3, 6, 9, 12]\n"
     ]
    }
   ],
   "source": [
    "a = [1,2,3,4] \n",
    "result = [] \n",
    "for num in a: \n",
    "    result.append(num*3) \n",
    "\n",
    "print(result) "
   ]
  },
  {
   "cell_type": "code",
   "execution_count": 47,
   "metadata": {
    "collapsed": false,
    "deletable": true,
    "editable": true
   },
   "outputs": [
    {
     "name": "stdout",
     "output_type": "stream",
     "text": [
      "[3, 6, 9, 12]\n"
     ]
    }
   ],
   "source": [
    "# 파이썬의 장점!\n",
    "# [표현식 for 항목 in 반복가능객체 if 조건] \n",
    "result = [num * 3 for num in a]\n",
    "print(result)"
   ]
  },
  {
   "cell_type": "code",
   "execution_count": 48,
   "metadata": {
    "collapsed": false,
    "deletable": true,
    "editable": true
   },
   "outputs": [
    {
     "name": "stdout",
     "output_type": "stream",
     "text": [
      "[6, 12]\n"
     ]
    }
   ],
   "source": [
    "result = [num * 3 for num in a if num % 2 == 0] \n",
    "print(result)"
   ]
  },
  {
   "cell_type": "code",
   "execution_count": 49,
   "metadata": {
    "collapsed": false,
    "deletable": true,
    "editable": true
   },
   "outputs": [
    {
     "name": "stdout",
     "output_type": "stream",
     "text": [
      "[2, 4, 6, 8, 10, 12, 14, 16, 18, 3, 6, 9, 12, 15, 18, 21, 24, 27, 4, 8, 12, 16, 20, 24, 28, 32, 36, 5, 10, 15, 20, 25, 30, 35, 40, 45, 6, 12, 18, 24, 30, 36, 42, 48, 54, 7, 14, 21, 28, 35, 42, 49, 56, 63, 8, 16, 24, 32, 40, 48, 56, 64, 72, 9, 18, 27, 36, 45, 54, 63, 72, 81]\n"
     ]
    }
   ],
   "source": [
    "result = [x*y for x in range(2,10)\n",
    "         for y in range(1,10)] # for문 두개이상 사용하는것도 가능\n",
    "print(result)"
   ]
  },
  {
   "cell_type": "code",
   "execution_count": 50,
   "metadata": {
    "collapsed": false,
    "deletable": true,
    "editable": true
   },
   "outputs": [
    {
     "data": {
      "text/plain": [
       "{0: 0, 1: 1, 2: 4, 3: 9, 4: 16}"
      ]
     },
     "execution_count": 50,
     "metadata": {},
     "output_type": "execute_result"
    }
   ],
   "source": [
    "#dict에서도 사용가능\n",
    "square_dict = {x: x * x for x in range(5)}\n",
    "square_dict"
   ]
  },
  {
   "cell_type": "code",
   "execution_count": 51,
   "metadata": {
    "collapsed": false,
    "deletable": true,
    "editable": true,
    "scrolled": true
   },
   "outputs": [
    {
     "data": {
      "text/plain": [
       "[(0, 1), (0, 2), (0, 3), (0, 4), (1, 2), (1, 3), (1, 4), (2, 3), (2, 4)]"
      ]
     },
     "execution_count": 51,
     "metadata": {},
     "output_type": "execute_result"
    }
   ],
   "source": [
    "increasing_pairs = [(x,y)\n",
    "        for x in range(3)\n",
    "        for y in range(x + 1, 5)] \n",
    "increasing_pairs"
   ]
  },
  {
   "cell_type": "markdown",
   "metadata": {
    "deletable": true,
    "editable": true
   },
   "source": [
    "**while 문**  \n",
    "조건문이 참인 동안 수행"
   ]
  },
  {
   "cell_type": "code",
   "execution_count": 52,
   "metadata": {
    "collapsed": false,
    "deletable": true,
    "editable": true
   },
   "outputs": [
    {
     "name": "stdout",
     "output_type": "stream",
     "text": [
      "0 is less than 10\n",
      "1 is less than 10\n",
      "2 is less than 10\n",
      "3 is less than 10\n",
      "4 is less than 10\n",
      "5 is less than 10\n",
      "6 is less than 10\n",
      "7 is less than 10\n",
      "8 is less than 10\n",
      "9 is less than 10\n"
     ]
    }
   ],
   "source": [
    "x = 0\n",
    "while x < 10:\n",
    "    print (x,\"is less than 10\")\n",
    "    x += 1"
   ]
  },
  {
   "cell_type": "markdown",
   "metadata": {
    "deletable": true,
    "editable": true
   },
   "source": [
    "# 3. 함수\n",
    "\n",
    "def 함수이름(입력인수):   \n",
    "\t<수행할 문장>   \n",
    "\t...   \n",
    "\treturn 결과값   "
   ]
  },
  {
   "cell_type": "code",
   "execution_count": 53,
   "metadata": {
    "collapsed": false,
    "deletable": true,
    "editable": true
   },
   "outputs": [
    {
     "name": "stdout",
     "output_type": "stream",
     "text": [
      "7\n"
     ]
    }
   ],
   "source": [
    "# 일반적인 함수\n",
    "def sum(a,b):\n",
    "    return a+b\n",
    "\n",
    "a = sum(3,4)\n",
    "print(a)"
   ]
  },
  {
   "cell_type": "code",
   "execution_count": 54,
   "metadata": {
    "collapsed": false,
    "deletable": true,
    "editable": true
   },
   "outputs": [
    {
     "name": "stdout",
     "output_type": "stream",
     "text": [
      "Hi!\n"
     ]
    }
   ],
   "source": [
    "# 입력값이 없는 함수\n",
    "def say():\n",
    "    return 'Hi!'\n",
    "\n",
    "print(say())"
   ]
  },
  {
   "cell_type": "code",
   "execution_count": 55,
   "metadata": {
    "collapsed": false,
    "deletable": true,
    "editable": true
   },
   "outputs": [
    {
     "name": "stdout",
     "output_type": "stream",
     "text": [
      "3, 4의 합은 7입니다.\n"
     ]
    }
   ],
   "source": [
    "# 결과값이 없는 함수\n",
    "def sum(a, b):\n",
    "    print(\"%d, %d의 합은 %d입니다.\" % (a, b, a+b))\n",
    "\n",
    "sum(3,4)"
   ]
  },
  {
   "cell_type": "code",
   "execution_count": 56,
   "metadata": {
    "collapsed": false,
    "deletable": true,
    "editable": true
   },
   "outputs": [
    {
     "name": "stdout",
     "output_type": "stream",
     "text": [
      "55\n"
     ]
    }
   ],
   "source": [
    "# 입력값이 몇개가 될지 모를 때\n",
    "# 변수명 앞에 *을 붙여서 !\n",
    "\n",
    "def sum_many(*args): \n",
    "    sum = 0 \n",
    "    for i in args: \n",
    "        sum = sum + i \n",
    "    return sum \n",
    "\n",
    "result = sum_many(1,2,3,4,5,6,7,8,9,10)\n",
    "print(result)"
   ]
  },
  {
   "cell_type": "code",
   "execution_count": 57,
   "metadata": {
    "collapsed": false,
    "deletable": true,
    "editable": true
   },
   "outputs": [
    {
     "name": "stdout",
     "output_type": "stream",
     "text": [
      "15\n"
     ]
    }
   ],
   "source": [
    "def sum_mul(choice, *args): \n",
    "    if choice == \"sum\": \n",
    "        result = 0 \n",
    "        for i in args: \n",
    "            result = result + i \n",
    "    elif choice == \"mul\": \n",
    "        result = 1 \n",
    "        for i in args: \n",
    "            result = result * i \n",
    "    return result \n",
    "\n",
    "result = sum_mul('sum', 1,2,3,4,5)\n",
    "print(result)"
   ]
  },
  {
   "cell_type": "markdown",
   "metadata": {
    "deletable": true,
    "editable": true
   },
   "source": [
    "# 4. 클래스\n"
   ]
  },
  {
   "cell_type": "code",
   "execution_count": 58,
   "metadata": {
    "collapsed": false,
    "deletable": true,
    "editable": true
   },
   "outputs": [
    {
     "name": "stdout",
     "output_type": "stream",
     "text": [
      "소희쓰\n",
      "1 + 2 = 3입니다.\n"
     ]
    }
   ],
   "source": [
    "class Service: \n",
    "    name = \"소희쓰\" \n",
    "    def sum(self, a, b): \n",
    "        result = a + b \n",
    "        print(\"%s + %s = %s입니다.\" % (a, b, result)) \n",
    "\n",
    "pey = Service()\n",
    "print(pey.name)\n",
    "pey.sum(1,2)"
   ]
  },
  {
   "cell_type": "markdown",
   "metadata": {
    "deletable": true,
    "editable": true
   },
   "source": [
    "파이썬 메서드의 첫번째 파라미터명은 관례적으로 self라는 이름을 사용한다.   \n",
    "호출 시 호출한 객체 자신이 전달되기 때문에 self라는 이름을 사용하게 된 것이다. 물론 self말고 다른 이름을 사용해도 상관은 없다.  \n",
    "(참고. 메서드의 첫번째 파라미터 self를 명시적으로 구현해야 하는 것은 파이썬만의 독특한 특징이다.   \n",
    "예를 들어 자바 같은 언어는 첫번째 파라미터인 self가 필요 없다.)\n"
   ]
  },
  {
   "cell_type": "code",
   "execution_count": 59,
   "metadata": {
    "collapsed": false,
    "deletable": true,
    "editable": true
   },
   "outputs": [
    {
     "name": "stdout",
     "output_type": "stream",
     "text": [
      "소희님 1 + 2 = 3입니다.\n"
     ]
    }
   ],
   "source": [
    "class Service:  \n",
    "    def setname(self, name): \n",
    "        self.name = name \n",
    "    def sum(self, a, b): \n",
    "        result = a + b \n",
    "        print(\"%s님 %s + %s = %s입니다.\" % (self.name, a, b, result))\n",
    "\n",
    "a = Service()\n",
    "a.setname(\"소희\")\n",
    "a.sum(1,2)"
   ]
  },
  {
   "cell_type": "code",
   "execution_count": 60,
   "metadata": {
    "collapsed": false,
    "deletable": true,
    "editable": true
   },
   "outputs": [
    {
     "ename": "AttributeError",
     "evalue": "'Service' object has no attribute 'name'",
     "output_type": "error",
     "traceback": [
      "\u001b[0;31m---------------------------------------------------------------------------\u001b[0m",
      "\u001b[0;31mAttributeError\u001b[0m                            Traceback (most recent call last)",
      "\u001b[0;32m<ipython-input-60-8ea8cc6df67d>\u001b[0m in \u001b[0;36m<module>\u001b[0;34m()\u001b[0m\n\u001b[1;32m      1\u001b[0m \u001b[0mb\u001b[0m \u001b[1;33m=\u001b[0m \u001b[0mService\u001b[0m\u001b[1;33m(\u001b[0m\u001b[1;33m)\u001b[0m\u001b[1;33m\u001b[0m\u001b[0m\n\u001b[0;32m----> 2\u001b[0;31m \u001b[0mb\u001b[0m\u001b[1;33m.\u001b[0m\u001b[0msum\u001b[0m\u001b[1;33m(\u001b[0m\u001b[1;36m1\u001b[0m\u001b[1;33m,\u001b[0m\u001b[1;36m2\u001b[0m\u001b[1;33m)\u001b[0m \u001b[1;31m# name 부여받지 못했기 때문에 error\u001b[0m\u001b[1;33m\u001b[0m\u001b[0m\n\u001b[0m",
      "\u001b[0;32m<ipython-input-59-b958a3058b1b>\u001b[0m in \u001b[0;36msum\u001b[0;34m(self, a, b)\u001b[0m\n\u001b[1;32m      4\u001b[0m     \u001b[1;32mdef\u001b[0m \u001b[0msum\u001b[0m\u001b[1;33m(\u001b[0m\u001b[0mself\u001b[0m\u001b[1;33m,\u001b[0m \u001b[0ma\u001b[0m\u001b[1;33m,\u001b[0m \u001b[0mb\u001b[0m\u001b[1;33m)\u001b[0m\u001b[1;33m:\u001b[0m\u001b[1;33m\u001b[0m\u001b[0m\n\u001b[1;32m      5\u001b[0m         \u001b[0mresult\u001b[0m \u001b[1;33m=\u001b[0m \u001b[0ma\u001b[0m \u001b[1;33m+\u001b[0m \u001b[0mb\u001b[0m\u001b[1;33m\u001b[0m\u001b[0m\n\u001b[0;32m----> 6\u001b[0;31m         \u001b[0mprint\u001b[0m\u001b[1;33m(\u001b[0m\u001b[1;34m\"%s님 %s + %s = %s입니다.\"\u001b[0m \u001b[1;33m%\u001b[0m \u001b[1;33m(\u001b[0m\u001b[0mself\u001b[0m\u001b[1;33m.\u001b[0m\u001b[0mname\u001b[0m\u001b[1;33m,\u001b[0m \u001b[0ma\u001b[0m\u001b[1;33m,\u001b[0m \u001b[0mb\u001b[0m\u001b[1;33m,\u001b[0m \u001b[0mresult\u001b[0m\u001b[1;33m)\u001b[0m\u001b[1;33m)\u001b[0m\u001b[1;33m\u001b[0m\u001b[0m\n\u001b[0m\u001b[1;32m      7\u001b[0m \u001b[1;33m\u001b[0m\u001b[0m\n\u001b[1;32m      8\u001b[0m \u001b[0ma\u001b[0m \u001b[1;33m=\u001b[0m \u001b[0mService\u001b[0m\u001b[1;33m(\u001b[0m\u001b[1;33m)\u001b[0m\u001b[1;33m\u001b[0m\u001b[0m\n",
      "\u001b[0;31mAttributeError\u001b[0m: 'Service' object has no attribute 'name'"
     ]
    }
   ],
   "source": [
    "b = Service()\n",
    "b.sum(1,2) # name 부여받지 못했기 때문에 error"
   ]
  },
  {
   "cell_type": "code",
   "execution_count": 61,
   "metadata": {
    "collapsed": false,
    "deletable": true,
    "editable": true
   },
   "outputs": [
    {
     "name": "stdout",
     "output_type": "stream",
     "text": [
      "김소희님 1 + 2 = 3입니다.\n"
     ]
    }
   ],
   "source": [
    "class Service: \n",
    "    def __init__(self, name):  # 생성자 __init__ 메서드를 이용하면 객체를 만드는 동시에 초깃값을 줄 수 있기 때문에 훨씬 편리하다\n",
    "        self.name = name \n",
    "    def sum(self, a, b): \n",
    "        result = a + b \n",
    "        print(\"%s님 %s + %s = %s입니다.\" % (self.name, a, b, result)) \n",
    "\n",
    "b = Service(\"김소희\")\n",
    "b.sum(1,2)"
   ]
  },
  {
   "cell_type": "code",
   "execution_count": 62,
   "metadata": {
    "collapsed": true,
    "deletable": true,
    "editable": true
   },
   "outputs": [],
   "source": [
    "class Set: # Set 클래스를 직접 만들어보자\n",
    "    def __init__(self, values=None):\n",
    "        self.dict = {}\n",
    "        \n",
    "        if values is not None: # values가 비어있지 않다면\n",
    "            for value in values: # values에 있는 value들을\n",
    "                self.add(value) # self에 추가\n",
    "                \n",
    "    def __repr__(self): # __repr__: print함수 안쓰고 그냥 className 실행하면 뜨는 것 \n",
    "        return \"Set:\" + str(self.dict.keys()) # self.dict의 key 값들을 반환 (set의 원소들은 dict의 key들)\n",
    "    \n",
    "    def add(self, value): # add라는 함수 정의\n",
    "        self.dict[value] = True # self.dict에 value를 key를 추가\n",
    "        print(self.dict)\n",
    "        \n",
    "    def contains(self, value): # contains라는 함수 정의\n",
    "        return value in self.dict # value가 self.dict의 key에 존재하는 지 확인\n",
    "    \n",
    "    def remove(self, value): # remove라는 함수 정의\n",
    "        del self.dict[value] # self.dict의 value라는 key를 삭제"
   ]
  },
  {
   "cell_type": "code",
   "execution_count": 63,
   "metadata": {
    "collapsed": false,
    "deletable": true,
    "editable": true
   },
   "outputs": [
    {
     "name": "stdout",
     "output_type": "stream",
     "text": [
      "{1: True}\n",
      "{1: True, 2: True}\n",
      "{1: True, 2: True, 3: True}\n"
     ]
    },
    {
     "data": {
      "text/plain": [
       "Set:dict_keys([1, 2, 3])"
      ]
     },
     "execution_count": 63,
     "metadata": {},
     "output_type": "execute_result"
    }
   ],
   "source": [
    "s = Set([1,2,3])\n",
    "s"
   ]
  },
  {
   "cell_type": "code",
   "execution_count": 64,
   "metadata": {
    "collapsed": false,
    "deletable": true,
    "editable": true
   },
   "outputs": [
    {
     "name": "stdout",
     "output_type": "stream",
     "text": [
      "{1: True, 2: True, 3: True, 4: True}\n"
     ]
    },
    {
     "data": {
      "text/plain": [
       "Set:dict_keys([1, 2, 3, 4])"
      ]
     },
     "execution_count": 64,
     "metadata": {},
     "output_type": "execute_result"
    }
   ],
   "source": [
    "s.add(4)\n",
    "s"
   ]
  },
  {
   "cell_type": "code",
   "execution_count": 65,
   "metadata": {
    "collapsed": false,
    "deletable": true,
    "editable": true
   },
   "outputs": [
    {
     "data": {
      "text/plain": [
       "Set:dict_keys([1, 2, 4])"
      ]
     },
     "execution_count": 65,
     "metadata": {},
     "output_type": "execute_result"
    }
   ],
   "source": [
    "s.remove(3)\n",
    "s"
   ]
  },
  {
   "cell_type": "markdown",
   "metadata": {
    "deletable": true,
    "editable": true
   },
   "source": [
    "클래스의 상속, 메소드 오버라이딩... (생략하겠습니당...)"
   ]
  },
  {
   "cell_type": "markdown",
   "metadata": {
    "deletable": true,
    "editable": true
   },
   "source": [
    "# 알아두면 좋은 Basic!"
   ]
  },
  {
   "cell_type": "markdown",
   "metadata": {
    "deletable": true,
    "editable": true
   },
   "source": [
    "**enumerate**  \n",
    "list를 반복하면서 list의 항목과 인덱스가 모두 필요한 경우"
   ]
  },
  {
   "cell_type": "code",
   "execution_count": 66,
   "metadata": {
    "collapsed": false,
    "deletable": true,
    "editable": true
   },
   "outputs": [
    {
     "name": "stdout",
     "output_type": "stream",
     "text": [
      "0 pen\n",
      "1 apple\n",
      "2 pineapple\n"
     ]
    }
   ],
   "source": [
    "documents = [\"pen\",\"apple\",\"pineapple\"]\n",
    "for i in range(len(documents)):\n",
    "    document = documents[i]\n",
    "    print (i, document) # 파이썬스럽지 않다"
   ]
  },
  {
   "cell_type": "code",
   "execution_count": 67,
   "metadata": {
    "collapsed": false,
    "deletable": true,
    "editable": true,
    "scrolled": true
   },
   "outputs": [
    {
     "name": "stdout",
     "output_type": "stream",
     "text": [
      "0 pen\n",
      "1 apple\n",
      "2 pineapple\n"
     ]
    }
   ],
   "source": [
    "# 인덱스와 list항목 동시에 ! 편리함!\n",
    "for i, document in enumerate(documents):\n",
    "    print (i, document)"
   ]
  },
  {
   "cell_type": "code",
   "execution_count": 70,
   "metadata": {
    "collapsed": false,
    "deletable": true,
    "editable": true
   },
   "outputs": [
    {
     "name": "stdout",
     "output_type": "stream",
     "text": [
      "0\n",
      "1\n",
      "2\n",
      "0\n",
      "1\n",
      "2\n"
     ]
    }
   ],
   "source": [
    "# 인덱스만 필요한 경우\n",
    "for i in range(len(documents)): print (i) # 파이썬스럽지 않다\n",
    "\n",
    "for i, _ in enumerate(documents): print (i) # 보통 버릴 항목은 밑줄로 표시한다 "
   ]
  },
  {
   "cell_type": "markdown",
   "metadata": {
    "deletable": true,
    "editable": true
   },
   "source": [
    "**정규표현식**"
   ]
  },
  {
   "cell_type": "code",
   "execution_count": 71,
   "metadata": {
    "collapsed": false,
    "deletable": true,
    "editable": true
   },
   "outputs": [
    {
     "name": "stdout",
     "output_type": "stream",
     "text": [
      "가나\n",
      "['abcd', 'adw']\n"
     ]
    }
   ],
   "source": [
    "import re # 정규표현식(regular expression, regex)을 다룰 때 필요한 다양한 함수와 상수를 포함하고 있음\n",
    "a = \"abcd가나adw\"\n",
    "p = re.compile('[a-z]+') \n",
    "print(p.sub('',a))\n",
    "print(p.findall(a))"
   ]
  },
  {
   "cell_type": "code",
   "execution_count": 72,
   "metadata": {
    "collapsed": false,
    "deletable": true,
    "editable": true
   },
   "outputs": [
    {
     "data": {
      "text/plain": [
       "True"
      ]
     },
     "execution_count": 72,
     "metadata": {},
     "output_type": "execute_result"
    }
   ],
   "source": [
    "bool(match (\"ca\", \"cat\")) # cat에 ca가 포함되니? (시작부터 패턴이 매칭되는지 확인)"
   ]
  },
  {
   "cell_type": "code",
   "execution_count": 73,
   "metadata": {
    "collapsed": false,
    "deletable": true,
    "editable": true
   },
   "outputs": [
    {
     "data": {
      "text/plain": [
       "True"
      ]
     },
     "execution_count": 73,
     "metadata": {},
     "output_type": "execute_result"
    }
   ],
   "source": [
    "bool(re.search(\"a\", \"cat\")) # cat에 a가 포함되니?"
   ]
  },
  {
   "cell_type": "code",
   "execution_count": 74,
   "metadata": {
    "collapsed": false,
    "deletable": true,
    "editable": true
   },
   "outputs": [
    {
     "data": {
      "text/plain": [
       "True"
      ]
     },
     "execution_count": 74,
     "metadata": {},
     "output_type": "execute_result"
    }
   ],
   "source": [
    "not re.search(\"c\",\"dog\") # dog에 c가 포함되지 않니?"
   ]
  },
  {
   "cell_type": "code",
   "execution_count": 75,
   "metadata": {
    "collapsed": false,
    "deletable": true,
    "editable": true
   },
   "outputs": [
    {
     "data": {
      "text/plain": [
       "['c', 'r', 's']"
      ]
     },
     "execution_count": 75,
     "metadata": {},
     "output_type": "execute_result"
    }
   ],
   "source": [
    "re.split(\"[ab]\", \"carbs\") # a랑 b로 단어를 split 해라!"
   ]
  },
  {
   "cell_type": "code",
   "execution_count": 76,
   "metadata": {
    "collapsed": false,
    "deletable": true,
    "editable": true
   },
   "outputs": [
    {
     "data": {
      "text/plain": [
       "'R-D-'"
      ]
     },
     "execution_count": 76,
     "metadata": {},
     "output_type": "execute_result"
    }
   ],
   "source": [
    "re.sub(\"[0-9]\",\"-\",\"R2D2\") # 숫자를 -로 바꿔서 넣어라(r에서 gsub!!)"
   ]
  },
  {
   "cell_type": "markdown",
   "metadata": {
    "deletable": true,
    "editable": true
   },
   "source": [
    "**zip, argument packing**"
   ]
  },
  {
   "cell_type": "markdown",
   "metadata": {
    "deletable": true,
    "editable": true
   },
   "source": [
    "가끔씩 두 개 이상의 list를 서로 묶어주고 싶을 때가 있다. zip은 여러 개의 list를 서로 상응하는 항목의 tuple로 구성된 list로 변환해준다."
   ]
  },
  {
   "cell_type": "code",
   "execution_count": 77,
   "metadata": {
    "collapsed": false,
    "deletable": true,
    "editable": true
   },
   "outputs": [
    {
     "data": {
      "text/plain": [
       "[('a', 1), ('b', 2), ('c', 3)]"
      ]
     },
     "execution_count": 77,
     "metadata": {},
     "output_type": "execute_result"
    }
   ],
   "source": [
    "list1 = ['a', 'b', 'c']\n",
    "list2 = [1, 2, 3]\n",
    "list(zip(list1, list2))"
   ]
  },
  {
   "cell_type": "markdown",
   "metadata": {
    "deletable": true,
    "editable": true
   },
   "source": [
    "주어진 list의 길이가 서로 다를 경우 zip은 첫번째 list가 끝나면 멈춘다. 묶인 list는 다음과 같은 트릭을 사용해 다시 풀 수도 있다."
   ]
  },
  {
   "cell_type": "code",
   "execution_count": 78,
   "metadata": {
    "collapsed": false,
    "deletable": true,
    "editable": true
   },
   "outputs": [
    {
     "name": "stdout",
     "output_type": "stream",
     "text": [
      "('a', 'b', 'c')\n",
      "(1, 2, 3)\n"
     ]
    }
   ],
   "source": [
    "pairs = [('a', 1), ('b', 2), ('c', 3)]\n",
    "letters, numbers = zip(*pairs)\n",
    "print(letters)\n",
    "print(numbers)"
   ]
  },
  {
   "cell_type": "markdown",
   "metadata": {
    "deletable": true,
    "editable": true
   },
   "source": [
    "별표(*)는 원래 argument packing(인자 해체)을 할 때 사용되는 문법으로,   \n",
    "이를 사용하면 pairs 내의 항목들을 zip 함수에 개별적인 인자로 전달해준다."
   ]
  },
  {
   "cell_type": "code",
   "execution_count": 79,
   "metadata": {
    "collapsed": false,
    "deletable": true,
    "editable": true
   },
   "outputs": [
    {
     "data": {
      "text/plain": [
       "[('a', 'b', 'c'), (1, 2, 3)]"
      ]
     },
     "execution_count": 79,
     "metadata": {},
     "output_type": "execute_result"
    }
   ],
   "source": [
    "list(zip(('a', 1), ('b', 2), ('c', 3)))"
   ]
  },
  {
   "cell_type": "code",
   "execution_count": 80,
   "metadata": {
    "collapsed": false,
    "deletable": true,
    "editable": true
   },
   "outputs": [
    {
     "data": {
      "text/plain": [
       "3"
      ]
     },
     "execution_count": 80,
     "metadata": {},
     "output_type": "execute_result"
    }
   ],
   "source": [
    "def add(a, b): return a + b\n",
    "\n",
    "add(1, 2)"
   ]
  },
  {
   "cell_type": "code",
   "execution_count": 81,
   "metadata": {
    "collapsed": false,
    "deletable": true,
    "editable": true
   },
   "outputs": [
    {
     "ename": "TypeError",
     "evalue": "add() missing 1 required positional argument: 'b'",
     "output_type": "error",
     "traceback": [
      "\u001b[0;31m---------------------------------------------------------------------------\u001b[0m",
      "\u001b[0;31mTypeError\u001b[0m                                 Traceback (most recent call last)",
      "\u001b[0;32m<ipython-input-81-e45590809063>\u001b[0m in \u001b[0;36m<module>\u001b[0;34m()\u001b[0m\n\u001b[0;32m----> 1\u001b[0;31m \u001b[0madd\u001b[0m\u001b[1;33m(\u001b[0m\u001b[1;33m[\u001b[0m\u001b[1;36m1\u001b[0m\u001b[1;33m,\u001b[0m \u001b[1;36m2\u001b[0m\u001b[1;33m]\u001b[0m\u001b[1;33m)\u001b[0m \u001b[1;31m# 에러 발생\u001b[0m\u001b[1;33m\u001b[0m\u001b[0m\n\u001b[0m",
      "\u001b[0;31mTypeError\u001b[0m: add() missing 1 required positional argument: 'b'"
     ]
    }
   ],
   "source": [
    "add([1, 2]) # 에러 발생"
   ]
  },
  {
   "cell_type": "code",
   "execution_count": 82,
   "metadata": {
    "collapsed": false,
    "deletable": true,
    "editable": true
   },
   "outputs": [
    {
     "data": {
      "text/plain": [
       "3"
      ]
     },
     "execution_count": 82,
     "metadata": {},
     "output_type": "execute_result"
    }
   ],
   "source": [
    "add(*[1, 2]) # 해체한 후 연산할것!"
   ]
  },
  {
   "cell_type": "markdown",
   "metadata": {
    "deletable": true,
    "editable": true
   },
   "source": [
    "**map**  \n",
    "map(f, iterable)은 함수(f)와 반복 가능한(iterable) 자료형을 입력으로 받는다.   \n",
    "map은 입력받은 자료형의 각 요소가 함수 f에 의해 수행된 결과를 묶어서 리턴하는 함수이다."
   ]
  },
  {
   "cell_type": "code",
   "execution_count": 83,
   "metadata": {
    "collapsed": false,
    "deletable": true,
    "editable": true
   },
   "outputs": [
    {
     "data": {
      "text/plain": [
       "[2, 4, 6, 8]"
      ]
     },
     "execution_count": 83,
     "metadata": {},
     "output_type": "execute_result"
    }
   ],
   "source": [
    "def two_times(numberList):\n",
    "    result = [ ]\n",
    "    for number in numberList:\n",
    "        result.append(number*2) # result라는 빈 리스트에 각 원소에 2를 곱한걸 쌓아나간다!\n",
    "    return result\n",
    "\n",
    "two_times([1, 2, 3, 4])"
   ]
  },
  {
   "cell_type": "code",
   "execution_count": 84,
   "metadata": {
    "collapsed": false,
    "deletable": true,
    "editable": true
   },
   "outputs": [
    {
     "data": {
      "text/plain": [
       "[2, 4, 6, 8]"
      ]
     },
     "execution_count": 84,
     "metadata": {},
     "output_type": "execute_result"
    }
   ],
   "source": [
    "# map을 사용하면\n",
    "# map은 입력 받은 자료형의 각 요소가 함수 f에 의해 수행된 결과를 묶어서 리턴하는 함수이다\n",
    "\n",
    "def double(x):\n",
    "    return 2*x\n",
    "\n",
    "list(map(double, [1, 2, 3, 4]))"
   ]
  },
  {
   "cell_type": "code",
   "execution_count": 85,
   "metadata": {
    "collapsed": false,
    "deletable": true,
    "editable": true
   },
   "outputs": [
    {
     "data": {
      "text/plain": [
       "[2, 4, 6, 8]"
      ]
     },
     "execution_count": 85,
     "metadata": {},
     "output_type": "execute_result"
    }
   ],
   "source": [
    "# 람다를 사용하면 이렇게도 쓸 수 있다!\n",
    "list(map(lambda a: a*2, [1, 2, 3, 4])) "
   ]
  },
  {
   "cell_type": "code",
   "execution_count": 86,
   "metadata": {
    "collapsed": false,
    "deletable": true,
    "editable": true
   },
   "outputs": [
    {
     "data": {
      "text/plain": [
       "[4, 10]"
      ]
     },
     "execution_count": 86,
     "metadata": {},
     "output_type": "execute_result"
    }
   ],
   "source": [
    "def multiply(x,y): return x*y\n",
    "\n",
    "list(map(multiply, [1,2], [4,5])) # 1,4를 먼저 인자로 받고, 2,5를 인자로 받는다"
   ]
  },
  {
   "cell_type": "markdown",
   "metadata": {
    "deletable": true,
    "editable": true
   },
   "source": [
    "**pickle**  \n",
    "pickle은 객체의 형태를 그대로 유지하면서 파일에 저장하고 불러올 수 있게 하는 모듈이다.   "
   ]
  },
  {
   "cell_type": "code",
   "execution_count": 87,
   "metadata": {
    "collapsed": true,
    "deletable": true,
    "editable": true
   },
   "outputs": [],
   "source": [
    "# pickle 모듈의 dump 함수를 이용하여 딕셔너리 객체인 data를 그대로 파일에 저장하기\n",
    "\n",
    "import pickle \n",
    "f = open(\"C:\\\\sohee2.txt\", 'wb') \n",
    "data = {1: 'python', 2: 'you need'} \n",
    "pickle.dump(data, f) \n",
    "f.close() "
   ]
  },
  {
   "cell_type": "code",
   "execution_count": 88,
   "metadata": {
    "collapsed": false,
    "deletable": true,
    "editable": true
   },
   "outputs": [
    {
     "name": "stdout",
     "output_type": "stream",
     "text": [
      "{1: 'python', 2: 'you need'}\n"
     ]
    }
   ],
   "source": [
    "# pickle.dump에 의해 저장된 파일을 pickle.load를 이용해서 원래 있던 딕셔너리 객체(data) 상태 그대로 불러오기\n",
    "\n",
    "f = open(\"C:\\\\sohee2.txt\", 'rb') \n",
    "data = pickle.load(f) \n",
    "print(data) "
   ]
  },
  {
   "cell_type": "markdown",
   "metadata": {
    "deletable": true,
    "editable": true
   },
   "source": [
    "**os 모듈**  \n",
    "OS 모듈은 환경 변수나 디렉터리, 파일 등의 OS 자원을 제어할 수 있게 해주는 모듈이다."
   ]
  },
  {
   "cell_type": "code",
   "execution_count": 89,
   "metadata": {
    "collapsed": false,
    "deletable": true,
    "editable": true
   },
   "outputs": [
    {
     "data": {
      "text/plain": [
       "'C:\\\\Users\\\\king\\\\Desktop'"
      ]
     },
     "execution_count": 89,
     "metadata": {},
     "output_type": "execute_result"
    }
   ],
   "source": [
    "import os\n",
    "os.getcwd()"
   ]
  },
  {
   "cell_type": "markdown",
   "metadata": {
    "deletable": true,
    "editable": true
   },
   "source": [
    "os.mkdir(디렉터리) - 디렉터리를 생성한다.  \n",
    "os.rmdir(디렉터리) - 디렉터리를 삭제한다.단, 디렉터리가 비어있어야 삭제가 가능하다.  \n",
    "os.unlink(파일) - 파일을 지운다.  \n",
    "os.rename(src, dst) - src라는 이름의 파일을 dst라는 이름으로 바꾼다.  "
   ]
  },
  {
   "cell_type": "markdown",
   "metadata": {
    "deletable": true,
    "editable": true
   },
   "source": [
    "**pandas**  \n",
    "https://blog.naver.com/ossiriand/220702153702"
   ]
  },
  {
   "cell_type": "code",
   "execution_count": 40,
   "metadata": {
    "collapsed": false,
    "deletable": true,
    "editable": true,
    "scrolled": true
   },
   "outputs": [],
   "source": [
    "import matplotlib.pyplot as plt\n",
    "import pandas as pd \n",
    "import matplotlib "
   ]
  },
  {
   "cell_type": "code",
   "execution_count": 29,
   "metadata": {
    "collapsed": false,
    "deletable": true,
    "editable": true
   },
   "outputs": [
    {
     "data": {
      "text/plain": [
       "[('Bob', 968), ('Jessica', 155), ('Mary', 77), ('John', 578), ('Mel', 973)]"
      ]
     },
     "execution_count": 29,
     "metadata": {},
     "output_type": "execute_result"
    }
   ],
   "source": [
    "# 데이터 만들기\n",
    "names = ['Bob','Jessica','Mary','John','Mel']\n",
    "births = [968, 155, 77, 578, 973]\n",
    "\n",
    "BabyDataSet = list(zip(names,births))\n",
    "BabyDataSet"
   ]
  },
  {
   "cell_type": "code",
   "execution_count": 30,
   "metadata": {
    "collapsed": false,
    "deletable": true,
    "editable": true
   },
   "outputs": [
    {
     "data": {
      "text/html": [
       "<div>\n",
       "<table border=\"1\" class=\"dataframe\">\n",
       "  <thead>\n",
       "    <tr style=\"text-align: right;\">\n",
       "      <th></th>\n",
       "      <th>Names</th>\n",
       "      <th>Births</th>\n",
       "    </tr>\n",
       "  </thead>\n",
       "  <tbody>\n",
       "    <tr>\n",
       "      <th>0</th>\n",
       "      <td>Bob</td>\n",
       "      <td>968</td>\n",
       "    </tr>\n",
       "    <tr>\n",
       "      <th>1</th>\n",
       "      <td>Jessica</td>\n",
       "      <td>155</td>\n",
       "    </tr>\n",
       "    <tr>\n",
       "      <th>2</th>\n",
       "      <td>Mary</td>\n",
       "      <td>77</td>\n",
       "    </tr>\n",
       "    <tr>\n",
       "      <th>3</th>\n",
       "      <td>John</td>\n",
       "      <td>578</td>\n",
       "    </tr>\n",
       "    <tr>\n",
       "      <th>4</th>\n",
       "      <td>Mel</td>\n",
       "      <td>973</td>\n",
       "    </tr>\n",
       "  </tbody>\n",
       "</table>\n",
       "</div>"
      ],
      "text/plain": [
       "     Names  Births\n",
       "0      Bob     968\n",
       "1  Jessica     155\n",
       "2     Mary      77\n",
       "3     John     578\n",
       "4      Mel     973"
      ]
     },
     "execution_count": 30,
     "metadata": {},
     "output_type": "execute_result"
    }
   ],
   "source": [
    "df = pd.DataFrame(data = BabyDataSet, columns=['Names', 'Births'])\n",
    "df"
   ]
  },
  {
   "cell_type": "code",
   "execution_count": 25,
   "metadata": {
    "collapsed": false,
    "deletable": true,
    "editable": true
   },
   "outputs": [],
   "source": [
    " # 잘 모르겠을때에는 검색을 이용한다!# csv파일로 저장\n",
    "df.to_csv?"
   ]
  },
  {
   "cell_type": "code",
   "execution_count": 31,
   "metadata": {
    "collapsed": true,
    "deletable": true,
    "editable": true
   },
   "outputs": [],
   "source": [
    "df.to_csv('C:\\\\births1880.csv',index=False,header=False)"
   ]
  },
  {
   "cell_type": "code",
   "execution_count": 32,
   "metadata": {
    "collapsed": false,
    "deletable": true,
    "editable": true
   },
   "outputs": [
    {
     "data": {
      "text/html": [
       "<div>\n",
       "<table border=\"1\" class=\"dataframe\">\n",
       "  <thead>\n",
       "    <tr style=\"text-align: right;\">\n",
       "      <th></th>\n",
       "      <th>Bob</th>\n",
       "      <th>968</th>\n",
       "    </tr>\n",
       "  </thead>\n",
       "  <tbody>\n",
       "    <tr>\n",
       "      <th>0</th>\n",
       "      <td>Jessica</td>\n",
       "      <td>155</td>\n",
       "    </tr>\n",
       "    <tr>\n",
       "      <th>1</th>\n",
       "      <td>Mary</td>\n",
       "      <td>77</td>\n",
       "    </tr>\n",
       "    <tr>\n",
       "      <th>2</th>\n",
       "      <td>John</td>\n",
       "      <td>578</td>\n",
       "    </tr>\n",
       "    <tr>\n",
       "      <th>3</th>\n",
       "      <td>Mel</td>\n",
       "      <td>973</td>\n",
       "    </tr>\n",
       "  </tbody>\n",
       "</table>\n",
       "</div>"
      ],
      "text/plain": [
       "       Bob  968\n",
       "0  Jessica  155\n",
       "1     Mary   77\n",
       "2     John  578\n",
       "3      Mel  973"
      ]
     },
     "execution_count": 32,
     "metadata": {},
     "output_type": "execute_result"
    }
   ],
   "source": [
    "# 데이터 불러오기\n",
    "Location = 'C:\\\\births1880.csv'\n",
    "df = pd.read_csv(Location)\n",
    "df"
   ]
  },
  {
   "cell_type": "code",
   "execution_count": 33,
   "metadata": {
    "collapsed": false,
    "deletable": true,
    "editable": true,
    "scrolled": true
   },
   "outputs": [
    {
     "data": {
      "text/html": [
       "<div>\n",
       "<table border=\"1\" class=\"dataframe\">\n",
       "  <thead>\n",
       "    <tr style=\"text-align: right;\">\n",
       "      <th></th>\n",
       "      <th>0</th>\n",
       "      <th>1</th>\n",
       "    </tr>\n",
       "  </thead>\n",
       "  <tbody>\n",
       "    <tr>\n",
       "      <th>0</th>\n",
       "      <td>Bob</td>\n",
       "      <td>968</td>\n",
       "    </tr>\n",
       "    <tr>\n",
       "      <th>1</th>\n",
       "      <td>Jessica</td>\n",
       "      <td>155</td>\n",
       "    </tr>\n",
       "    <tr>\n",
       "      <th>2</th>\n",
       "      <td>Mary</td>\n",
       "      <td>77</td>\n",
       "    </tr>\n",
       "    <tr>\n",
       "      <th>3</th>\n",
       "      <td>John</td>\n",
       "      <td>578</td>\n",
       "    </tr>\n",
       "    <tr>\n",
       "      <th>4</th>\n",
       "      <td>Mel</td>\n",
       "      <td>973</td>\n",
       "    </tr>\n",
       "  </tbody>\n",
       "</table>\n",
       "</div>"
      ],
      "text/plain": [
       "         0    1\n",
       "0      Bob  968\n",
       "1  Jessica  155\n",
       "2     Mary   77\n",
       "3     John  578\n",
       "4      Mel  973"
      ]
     },
     "execution_count": 33,
     "metadata": {},
     "output_type": "execute_result"
    }
   ],
   "source": [
    "df = pd.read_csv(Location, header=None)\n",
    "df"
   ]
  },
  {
   "cell_type": "code",
   "execution_count": 34,
   "metadata": {
    "collapsed": false,
    "deletable": true,
    "editable": true
   },
   "outputs": [
    {
     "data": {
      "text/html": [
       "<div>\n",
       "<table border=\"1\" class=\"dataframe\">\n",
       "  <thead>\n",
       "    <tr style=\"text-align: right;\">\n",
       "      <th></th>\n",
       "      <th>Names</th>\n",
       "      <th>Births</th>\n",
       "    </tr>\n",
       "  </thead>\n",
       "  <tbody>\n",
       "    <tr>\n",
       "      <th>0</th>\n",
       "      <td>Bob</td>\n",
       "      <td>968</td>\n",
       "    </tr>\n",
       "    <tr>\n",
       "      <th>1</th>\n",
       "      <td>Jessica</td>\n",
       "      <td>155</td>\n",
       "    </tr>\n",
       "    <tr>\n",
       "      <th>2</th>\n",
       "      <td>Mary</td>\n",
       "      <td>77</td>\n",
       "    </tr>\n",
       "    <tr>\n",
       "      <th>3</th>\n",
       "      <td>John</td>\n",
       "      <td>578</td>\n",
       "    </tr>\n",
       "    <tr>\n",
       "      <th>4</th>\n",
       "      <td>Mel</td>\n",
       "      <td>973</td>\n",
       "    </tr>\n",
       "  </tbody>\n",
       "</table>\n",
       "</div>"
      ],
      "text/plain": [
       "     Names  Births\n",
       "0      Bob     968\n",
       "1  Jessica     155\n",
       "2     Mary      77\n",
       "3     John     578\n",
       "4      Mel     973"
      ]
     },
     "execution_count": 34,
     "metadata": {},
     "output_type": "execute_result"
    }
   ],
   "source": [
    "df = pd.read_csv(Location, names=['Names','Births']) # 이름붙여주기\n",
    "df"
   ]
  },
  {
   "cell_type": "code",
   "execution_count": 35,
   "metadata": {
    "collapsed": false,
    "deletable": true,
    "editable": true
   },
   "outputs": [
    {
     "data": {
      "text/plain": [
       "Names     object\n",
       "Births     int64\n",
       "dtype: object"
      ]
     },
     "execution_count": 35,
     "metadata": {},
     "output_type": "execute_result"
    }
   ],
   "source": [
    "# 열의 type 확인하기\n",
    "df.dtypes"
   ]
  },
  {
   "cell_type": "code",
   "execution_count": 36,
   "metadata": {
    "collapsed": false,
    "deletable": true,
    "editable": true
   },
   "outputs": [
    {
     "data": {
      "text/plain": [
       "dtype('int64')"
      ]
     },
     "execution_count": 36,
     "metadata": {},
     "output_type": "execute_result"
    }
   ],
   "source": [
    "# 특정열의 type 확인하기\n",
    "df.Births.dtype"
   ]
  },
  {
   "cell_type": "markdown",
   "metadata": {
    "deletable": true,
    "editable": true
   },
   "source": [
    "df['Names'] - Name열의 전체 list  \n",
    "df['Births']   \n",
    "df['Births'].max() - Birth열에서 가장 큰 값  \n",
    "  \n",
    "[df['Births'] == df['Births'].max()] max값과 같은 record 모두 찾아준다  \n",
    "df['Names'][df['Births'] == df['Births'].max()] Birth의 max값과 같은 record의 이름 모두 찾아준다  "
   ]
  },
  {
   "cell_type": "code",
   "execution_count": 43,
   "metadata": {
    "collapsed": false,
    "deletable": true,
    "editable": true
   },
   "outputs": [
    {
     "data": {
      "text/plain": [
       "0        Bob\n",
       "1    Jessica\n",
       "2       Mary\n",
       "3       John\n",
       "4        Mel\n",
       "Name: Names, dtype: object"
      ]
     },
     "execution_count": 43,
     "metadata": {},
     "output_type": "execute_result"
    }
   ],
   "source": [
    "df['Names'] "
   ]
  },
  {
   "cell_type": "code",
   "execution_count": 37,
   "metadata": {
    "collapsed": false,
    "deletable": true,
    "editable": true,
    "scrolled": true
   },
   "outputs": [
    {
     "data": {
      "text/html": [
       "<div>\n",
       "<table border=\"1\" class=\"dataframe\">\n",
       "  <thead>\n",
       "    <tr style=\"text-align: right;\">\n",
       "      <th></th>\n",
       "      <th>Names</th>\n",
       "      <th>Births</th>\n",
       "    </tr>\n",
       "  </thead>\n",
       "  <tbody>\n",
       "    <tr>\n",
       "      <th>4</th>\n",
       "      <td>Mel</td>\n",
       "      <td>973</td>\n",
       "    </tr>\n",
       "  </tbody>\n",
       "</table>\n",
       "</div>"
      ],
      "text/plain": [
       "  Names  Births\n",
       "4   Mel     973"
      ]
     },
     "execution_count": 37,
     "metadata": {},
     "output_type": "execute_result"
    }
   ],
   "source": [
    "# 가장 큰 BIrth를 찾고싶을때\n",
    "Sorted = df.sort_values(['Births'], ascending=False) # 내림차순으로 정리\n",
    "Sorted.head(1)"
   ]
  },
  {
   "cell_type": "code",
   "execution_count": 42,
   "metadata": {
    "collapsed": false,
    "deletable": true,
    "editable": true,
    "scrolled": true
   },
   "outputs": [
    {
     "name": "stdout",
     "output_type": "stream",
     "text": [
      "973\n",
      "['Mel']\n"
     ]
    }
   ],
   "source": [
    "print(df['Births'].max())\n",
    "MaxName = df['Names'][df['Births'] == df['Births'].max()].values\n",
    "print(MaxName)"
   ]
  },
  {
   "cell_type": "markdown",
   "metadata": {
    "deletable": true,
    "editable": true
   },
   "source": [
    "seed(500) - seed생성  \n",
    "randint(low=0,high=len(names))   \n",
    "names[n] - index가 n인 name 선택  "
   ]
  },
  {
   "cell_type": "code",
   "execution_count": 45,
   "metadata": {
    "collapsed": false,
    "deletable": true,
    "editable": true
   },
   "outputs": [
    {
     "data": {
      "text/plain": [
       "['Mary',\n",
       " 'Jessica',\n",
       " 'Jessica',\n",
       " 'Bob',\n",
       " 'Jessica',\n",
       " 'Jessica',\n",
       " 'Jessica',\n",
       " 'Mary',\n",
       " 'Mary',\n",
       " 'Mary']"
      ]
     },
     "execution_count": 45,
     "metadata": {},
     "output_type": "execute_result"
    }
   ],
   "source": [
    "from numpy import random\n",
    "names = ['Bob','Jessica','Mary','John','Mel']\n",
    "\n",
    "random.seed(500)\n",
    "random_names = [names[random.randint(low=0,high=len(names))] for i in range(1000)]\n",
    "\n",
    "# 처음 10개 rexord\n",
    "random_names[:10]"
   ]
  },
  {
   "cell_type": "code",
   "execution_count": 46,
   "metadata": {
    "collapsed": false,
    "deletable": true,
    "editable": true
   },
   "outputs": [
    {
     "data": {
      "text/plain": [
       "[968, 155, 77, 578, 973, 124, 155, 403, 199, 191]"
      ]
     },
     "execution_count": 46,
     "metadata": {},
     "output_type": "execute_result"
    }
   ],
   "source": [
    "# 0에서 1000까지 랜덤하게 생성\n",
    "births = [random.randint(low=0,high=1000) for i in range(1000)]\n",
    "births[:10]"
   ]
  },
  {
   "cell_type": "code",
   "execution_count": 47,
   "metadata": {
    "collapsed": false,
    "deletable": true,
    "editable": true
   },
   "outputs": [
    {
     "data": {
      "text/plain": [
       "[('Mary', 968),\n",
       " ('Jessica', 155),\n",
       " ('Jessica', 77),\n",
       " ('Bob', 578),\n",
       " ('Jessica', 973),\n",
       " ('Jessica', 124),\n",
       " ('Jessica', 155),\n",
       " ('Mary', 403),\n",
       " ('Mary', 199),\n",
       " ('Mary', 191)]"
      ]
     },
     "execution_count": 47,
     "metadata": {},
     "output_type": "execute_result"
    }
   ],
   "source": [
    "BabyDataSet = list(zip(random_names,births))\n",
    "BabyDataSet[:10]"
   ]
  },
  {
   "cell_type": "code",
   "execution_count": 49,
   "metadata": {
    "collapsed": false,
    "deletable": true,
    "editable": true,
    "scrolled": true
   },
   "outputs": [
    {
     "data": {
      "text/html": [
       "<div>\n",
       "<table border=\"1\" class=\"dataframe\">\n",
       "  <thead>\n",
       "    <tr style=\"text-align: right;\">\n",
       "      <th></th>\n",
       "      <th>Names</th>\n",
       "      <th>Births</th>\n",
       "    </tr>\n",
       "  </thead>\n",
       "  <tbody>\n",
       "    <tr>\n",
       "      <th>0</th>\n",
       "      <td>Mary</td>\n",
       "      <td>968</td>\n",
       "    </tr>\n",
       "    <tr>\n",
       "      <th>1</th>\n",
       "      <td>Jessica</td>\n",
       "      <td>155</td>\n",
       "    </tr>\n",
       "    <tr>\n",
       "      <th>2</th>\n",
       "      <td>Jessica</td>\n",
       "      <td>77</td>\n",
       "    </tr>\n",
       "    <tr>\n",
       "      <th>3</th>\n",
       "      <td>Bob</td>\n",
       "      <td>578</td>\n",
       "    </tr>\n",
       "    <tr>\n",
       "      <th>4</th>\n",
       "      <td>Jessica</td>\n",
       "      <td>973</td>\n",
       "    </tr>\n",
       "    <tr>\n",
       "      <th>5</th>\n",
       "      <td>Jessica</td>\n",
       "      <td>124</td>\n",
       "    </tr>\n",
       "    <tr>\n",
       "      <th>6</th>\n",
       "      <td>Jessica</td>\n",
       "      <td>155</td>\n",
       "    </tr>\n",
       "    <tr>\n",
       "      <th>7</th>\n",
       "      <td>Mary</td>\n",
       "      <td>403</td>\n",
       "    </tr>\n",
       "    <tr>\n",
       "      <th>8</th>\n",
       "      <td>Mary</td>\n",
       "      <td>199</td>\n",
       "    </tr>\n",
       "    <tr>\n",
       "      <th>9</th>\n",
       "      <td>Mary</td>\n",
       "      <td>191</td>\n",
       "    </tr>\n",
       "  </tbody>\n",
       "</table>\n",
       "</div>"
      ],
      "text/plain": [
       "     Names  Births\n",
       "0     Mary     968\n",
       "1  Jessica     155\n",
       "2  Jessica      77\n",
       "3      Bob     578\n",
       "4  Jessica     973\n",
       "5  Jessica     124\n",
       "6  Jessica     155\n",
       "7     Mary     403\n",
       "8     Mary     199\n",
       "9     Mary     191"
      ]
     },
     "execution_count": 49,
     "metadata": {},
     "output_type": "execute_result"
    }
   ],
   "source": [
    "df = pd.DataFrame(data = BabyDataSet, columns=['Names', 'Births'])\n",
    "df[:10]"
   ]
  },
  {
   "cell_type": "code",
   "execution_count": 51,
   "metadata": {
    "collapsed": true,
    "deletable": true,
    "editable": true
   },
   "outputs": [],
   "source": [
    "df.to_csv('C:\\\\births1880.txt',index=False,header=False)"
   ]
  },
  {
   "cell_type": "code",
   "execution_count": 52,
   "metadata": {
    "collapsed": true,
    "deletable": true,
    "editable": true
   },
   "outputs": [],
   "source": [
    "# 읽어오기\n",
    "Location = r'C:\\births1880.txt'\n",
    "df = pd.read_csv(Location)"
   ]
  },
  {
   "cell_type": "code",
   "execution_count": 53,
   "metadata": {
    "collapsed": false,
    "deletable": true,
    "editable": true
   },
   "outputs": [
    {
     "name": "stdout",
     "output_type": "stream",
     "text": [
      "<class 'pandas.core.frame.DataFrame'>\n",
      "RangeIndex: 999 entries, 0 to 998\n",
      "Data columns (total 2 columns):\n",
      "Mary    999 non-null object\n",
      "968     999 non-null int64\n",
      "dtypes: int64(1), object(1)\n",
      "memory usage: 15.7+ KB\n"
     ]
    }
   ],
   "source": [
    "df.info()"
   ]
  },
  {
   "cell_type": "code",
   "execution_count": 54,
   "metadata": {
    "collapsed": false,
    "deletable": true,
    "editable": true
   },
   "outputs": [
    {
     "data": {
      "text/html": [
       "<div>\n",
       "<table border=\"1\" class=\"dataframe\">\n",
       "  <thead>\n",
       "    <tr style=\"text-align: right;\">\n",
       "      <th></th>\n",
       "      <th>Mary</th>\n",
       "      <th>968</th>\n",
       "    </tr>\n",
       "  </thead>\n",
       "  <tbody>\n",
       "    <tr>\n",
       "      <th>0</th>\n",
       "      <td>Jessica</td>\n",
       "      <td>155</td>\n",
       "    </tr>\n",
       "    <tr>\n",
       "      <th>1</th>\n",
       "      <td>Jessica</td>\n",
       "      <td>77</td>\n",
       "    </tr>\n",
       "    <tr>\n",
       "      <th>2</th>\n",
       "      <td>Bob</td>\n",
       "      <td>578</td>\n",
       "    </tr>\n",
       "    <tr>\n",
       "      <th>3</th>\n",
       "      <td>Jessica</td>\n",
       "      <td>973</td>\n",
       "    </tr>\n",
       "    <tr>\n",
       "      <th>4</th>\n",
       "      <td>Jessica</td>\n",
       "      <td>124</td>\n",
       "    </tr>\n",
       "  </tbody>\n",
       "</table>\n",
       "</div>"
      ],
      "text/plain": [
       "      Mary  968\n",
       "0  Jessica  155\n",
       "1  Jessica   77\n",
       "2      Bob  578\n",
       "3  Jessica  973\n",
       "4  Jessica  124"
      ]
     },
     "execution_count": 54,
     "metadata": {},
     "output_type": "execute_result"
    }
   ],
   "source": [
    "df.head()"
   ]
  },
  {
   "cell_type": "code",
   "execution_count": 55,
   "metadata": {
    "collapsed": false,
    "deletable": true,
    "editable": true
   },
   "outputs": [
    {
     "data": {
      "text/html": [
       "<div>\n",
       "<table border=\"1\" class=\"dataframe\">\n",
       "  <thead>\n",
       "    <tr style=\"text-align: right;\">\n",
       "      <th></th>\n",
       "      <th>Mary</th>\n",
       "      <th>968</th>\n",
       "    </tr>\n",
       "  </thead>\n",
       "  <tbody>\n",
       "    <tr>\n",
       "      <th>994</th>\n",
       "      <td>John</td>\n",
       "      <td>151</td>\n",
       "    </tr>\n",
       "    <tr>\n",
       "      <th>995</th>\n",
       "      <td>Jessica</td>\n",
       "      <td>511</td>\n",
       "    </tr>\n",
       "    <tr>\n",
       "      <th>996</th>\n",
       "      <td>John</td>\n",
       "      <td>756</td>\n",
       "    </tr>\n",
       "    <tr>\n",
       "      <th>997</th>\n",
       "      <td>Jessica</td>\n",
       "      <td>294</td>\n",
       "    </tr>\n",
       "    <tr>\n",
       "      <th>998</th>\n",
       "      <td>John</td>\n",
       "      <td>152</td>\n",
       "    </tr>\n",
       "  </tbody>\n",
       "</table>\n",
       "</div>"
      ],
      "text/plain": [
       "        Mary  968\n",
       "994     John  151\n",
       "995  Jessica  511\n",
       "996     John  756\n",
       "997  Jessica  294\n",
       "998     John  152"
      ]
     },
     "execution_count": 55,
     "metadata": {},
     "output_type": "execute_result"
    }
   ],
   "source": [
    "df.tail()"
   ]
  },
  {
   "cell_type": "code",
   "execution_count": 56,
   "metadata": {
    "collapsed": false,
    "deletable": true,
    "editable": true
   },
   "outputs": [
    {
     "data": {
      "text/html": [
       "<div>\n",
       "<table border=\"1\" class=\"dataframe\">\n",
       "  <thead>\n",
       "    <tr style=\"text-align: right;\">\n",
       "      <th></th>\n",
       "      <th>Names</th>\n",
       "      <th>Births</th>\n",
       "    </tr>\n",
       "  </thead>\n",
       "  <tbody>\n",
       "    <tr>\n",
       "      <th>0</th>\n",
       "      <td>Mary</td>\n",
       "      <td>968</td>\n",
       "    </tr>\n",
       "    <tr>\n",
       "      <th>1</th>\n",
       "      <td>Jessica</td>\n",
       "      <td>155</td>\n",
       "    </tr>\n",
       "    <tr>\n",
       "      <th>2</th>\n",
       "      <td>Jessica</td>\n",
       "      <td>77</td>\n",
       "    </tr>\n",
       "    <tr>\n",
       "      <th>3</th>\n",
       "      <td>Bob</td>\n",
       "      <td>578</td>\n",
       "    </tr>\n",
       "    <tr>\n",
       "      <th>4</th>\n",
       "      <td>Jessica</td>\n",
       "      <td>973</td>\n",
       "    </tr>\n",
       "  </tbody>\n",
       "</table>\n",
       "</div>"
      ],
      "text/plain": [
       "     Names  Births\n",
       "0     Mary     968\n",
       "1  Jessica     155\n",
       "2  Jessica      77\n",
       "3      Bob     578\n",
       "4  Jessica     973"
      ]
     },
     "execution_count": 56,
     "metadata": {},
     "output_type": "execute_result"
    }
   ],
   "source": [
    "df = pd.read_csv(Location, names=['Names','Births'])\n",
    "df.head(5)"
   ]
  },
  {
   "cell_type": "code",
   "execution_count": 57,
   "metadata": {
    "collapsed": false,
    "deletable": true,
    "editable": true
   },
   "outputs": [
    {
     "data": {
      "text/plain": [
       "array(['Mary', 'Jessica', 'Bob', 'John', 'Mel'], dtype=object)"
      ]
     },
     "execution_count": 57,
     "metadata": {},
     "output_type": "execute_result"
    }
   ],
   "source": [
    "# 겹치지 않는 record들 보고싶을때\n",
    "# unique 이용\n",
    "df['Names'].unique()"
   ]
  },
  {
   "cell_type": "code",
   "execution_count": 58,
   "metadata": {
    "collapsed": false,
    "deletable": true,
    "editable": true,
    "scrolled": true
   },
   "outputs": [
    {
     "name": "stdout",
     "output_type": "stream",
     "text": [
      "Mary\n",
      "Jessica\n",
      "Bob\n",
      "John\n",
      "Mel\n"
     ]
    }
   ],
   "source": [
    "for x in df['Names'].unique():\n",
    "    print(x)"
   ]
  },
  {
   "cell_type": "code",
   "execution_count": 59,
   "metadata": {
    "collapsed": false,
    "deletable": true,
    "editable": true
   },
   "outputs": [
    {
     "name": "stdout",
     "output_type": "stream",
     "text": [
      "count     1000\n",
      "unique       5\n",
      "top        Bob\n",
      "freq       206\n",
      "Name: Names, dtype: object\n"
     ]
    }
   ],
   "source": [
    "# describe 이용\n",
    "print(df['Names'].describe())"
   ]
  },
  {
   "cell_type": "markdown",
   "metadata": {
    "deletable": true,
    "editable": true
   },
   "source": [
    "**Numpy**  \n",
    "https://www.datacamp.com/courses/intro-to-python-for-data-science  \n",
    "http://cs231n.github.io/python-numpy-tutorial/  "
   ]
  },
  {
   "cell_type": "markdown",
   "metadata": {
    "deletable": true,
    "editable": true
   },
   "source": [
    "배열\n",
    "\n",
    "넘파이 배열을 만들 때는 np.array() 메서드를 이용\n",
    "np.array()는 파이썬의 리스트를 인수로 받아 넘파이가 제공하는 특수한 형태의 배열(numpy.ndarray)을 반환합니다."
   ]
  },
  {
   "cell_type": "code",
   "execution_count": 61,
   "metadata": {
    "collapsed": false,
    "deletable": true,
    "editable": true
   },
   "outputs": [
    {
     "name": "stdout",
     "output_type": "stream",
     "text": [
      "[1 2 3]\n",
      "<class 'numpy.ndarray'>\n",
      "int32\n"
     ]
    }
   ],
   "source": [
    "import numpy as np\n",
    "a = np.array([1, 2, 3])  # rank가 1인 배열 생성\n",
    "print(a)                 # 출력 [1. 2. 3.]  \n",
    "print(type(a))           # 출력 numpy.ndarray ndrray 는 같은 자료형 데이터 담는 포괄적 다차원 배열\n",
    "print(a.dtype)           # 출력 int32"
   ]
  },
  {
   "cell_type": "code",
   "execution_count": 62,
   "metadata": {
    "collapsed": false,
    "deletable": true,
    "editable": true
   },
   "outputs": [
    {
     "name": "stdout",
     "output_type": "stream",
     "text": [
      "1 2 3\n",
      "[5 2 3]\n"
     ]
    }
   ],
   "source": [
    "print(a[0], a[1], a[2])  # 출력 \"1 2 3\"\n",
    "a[0] = 5                 # 요소를 변경\n",
    "print(a)                 # 출력 \"[5, 2, 3]\""
   ]
  },
  {
   "cell_type": "markdown",
   "metadata": {
    "deletable": true,
    "editable": true
   },
   "source": [
    "Numpy에선 배열을 구성하는 데 사용할 수 있는 다양한 숫자 자료형을 제공한다.  \n",
    "Numpy는 배열이 생성될 때 자료형을 스스로 추측한다(똑똑함)   \n",
    "그러나 배열을 생성할 때 명시적으로 특정 자료형을 지정(dtype = )할 수도 있다"
   ]
  },
  {
   "cell_type": "code",
   "execution_count": 63,
   "metadata": {
    "collapsed": false,
    "deletable": true,
    "editable": true
   },
   "outputs": [
    {
     "name": "stdout",
     "output_type": "stream",
     "text": [
      "float64\n",
      "int64\n"
     ]
    }
   ],
   "source": [
    "x = np.array([1.0, 2.0])  # Numpy가 자료형을 추측해서 선택\n",
    "print (x.dtype)           # 출력 \"float64\"\n",
    "\n",
    "x = np.array([1, 2], dtype=np.int64)  # 특정 자료형을 명시적으로 지정\n",
    "print (x.dtype)                         # 출력 \"int64\""
   ]
  },
  {
   "cell_type": "code",
   "execution_count": 65,
   "metadata": {
    "collapsed": false,
    "deletable": true,
    "editable": true
   },
   "outputs": [
    {
     "data": {
      "text/plain": [
       "array([3, 6, 9])"
      ]
     },
     "execution_count": 65,
     "metadata": {},
     "output_type": "execute_result"
    }
   ],
   "source": [
    "x = np.array([1, 2, 3])\n",
    "y = np.array([2, 4, 6])\n",
    "x + y                   # 원소별(요소별) 덧셈\n",
    "# x - y  * / 다 가능"
   ]
  },
  {
   "cell_type": "markdown",
   "metadata": {
    "deletable": true,
    "editable": true
   },
   "source": [
    "넘파이 배열은 원소별 계산뿐 아니라 넘파이 배열과 수치 하나(스칼라) 연산도 수행할 수 있다   \n",
    "이 경우 스칼라값의 계산이 넘파이 배열의 원소별로 한 번씩 수행된다 \n",
    "이 기능을 **브로드캐스트** 라고 한다  \n",
    "(즉, 형상(shape)이 다른 배열끼리도 연산을 가능하게 해주는 기능)  "
   ]
  },
  {
   "cell_type": "code",
   "execution_count": 66,
   "metadata": {
    "collapsed": false,
    "deletable": true,
    "editable": true
   },
   "outputs": [
    {
     "data": {
      "text/plain": [
       "array([ 0.5,  1. ,  1.5])"
      ]
     },
     "execution_count": 66,
     "metadata": {},
     "output_type": "execute_result"
    }
   ],
   "source": [
    "x = np.array([1, 2, 3])\n",
    "x / 2                  # 배열 x 스칼라값    ->   브로드캐스트 작동"
   ]
  },
  {
   "cell_type": "code",
   "execution_count": 67,
   "metadata": {
    "collapsed": false,
    "deletable": true,
    "editable": true
   },
   "outputs": [
    {
     "data": {
      "text/plain": [
       "array([1, 4, 9], dtype=int32)"
      ]
     },
     "execution_count": 67,
     "metadata": {},
     "output_type": "execute_result"
    }
   ],
   "source": [
    "x ** 2                 # '**' 는 제곱승"
   ]
  },
  {
   "cell_type": "code",
   "execution_count": 68,
   "metadata": {
    "collapsed": false,
    "deletable": true,
    "editable": true
   },
   "outputs": [
    {
     "name": "stdout",
     "output_type": "stream",
     "text": [
      "2\n",
      "(2, 3)\n",
      "int32\n",
      "[[1 2 3]\n",
      " [4 5 6]]\n",
      "1 2 4\n"
     ]
    }
   ],
   "source": [
    "# 다차원 배열도 가능\n",
    "\n",
    "A = np.array([[1,2,3],[4,5,6]])   # rank(차원)가 2인 배열 생성\n",
    "print(A.ndim)                     # 2 차원 \n",
    "print(A.shape)                    # 형상\n",
    "print(A.dtype)                    # 자료형\n",
    "print(A)                          # [[1 2 3\n",
    "                                  #   4 5 6]]\n",
    "    \n",
    "print (A[0, 0], A[0, 1], A[1, 0])   # 출력 \"1 2 4\""
   ]
  },
  {
   "cell_type": "code",
   "execution_count": 69,
   "metadata": {
    "collapsed": false,
    "deletable": true,
    "editable": true
   },
   "outputs": [
    {
     "data": {
      "text/plain": [
       "array([[3, 2, 3],\n",
       "       [7, 5, 6]])"
      ]
     },
     "execution_count": 69,
     "metadata": {},
     "output_type": "execute_result"
    }
   ],
   "source": [
    "B = np.array([[2,0,0],[3,0,0]])\n",
    "A + B"
   ]
  },
  {
   "cell_type": "markdown",
   "metadata": {
    "deletable": true,
    "editable": true
   },
   "source": [
    "형상(shape)이 같은 행렬끼리면 산술 연산도 *대응하는 원소별*로 계산된다 \n",
    "\n",
    "행렬과 스칼라값의 산술 연산도 가능함!\n",
    "이때도 마찬가지로 브로드캐스트 기능이 작동한다"
   ]
  },
  {
   "cell_type": "code",
   "execution_count": 70,
   "metadata": {
    "collapsed": false,
    "deletable": true,
    "editable": true
   },
   "outputs": [
    {
     "data": {
      "text/plain": [
       "array([[10, 20],\n",
       "       [30, 40]])"
      ]
     },
     "execution_count": 70,
     "metadata": {},
     "output_type": "execute_result"
    }
   ],
   "source": [
    "A = np.array([[1,2],[3,4]])\n",
    "A * 10   # 행렬 x 스칼라값   -> 브로드캐스트 작동"
   ]
  },
  {
   "cell_type": "markdown",
   "metadata": {
    "deletable": true,
    "editable": true
   },
   "source": [
    "브로드캐스트  \n",
    "배열의 크기가 다른 경우 연산을 해주기 위해 배열을 확장시키는 기술\n",
    "\n",
    "(1) 한 쪽이 배열이고 다른 한 쪽이 스칼라 값인 경우  \n",
    ": 스칼라값이 배열 크기만큼 확장된 후 연산된다  "
   ]
  },
  {
   "cell_type": "code",
   "execution_count": 72,
   "metadata": {
    "collapsed": false,
    "deletable": true,
    "editable": true
   },
   "outputs": [
    {
     "data": {
      "text/plain": [
       "array([[ 0.5,  1. ,  1.5],\n",
       "       [ 1. ,  1.5,  2. ]])"
      ]
     },
     "execution_count": 72,
     "metadata": {},
     "output_type": "execute_result"
    }
   ],
   "source": [
    "x = np.array([[1, 2, 3],[2, 3, 4]])\n",
    "x / 2                                # 배열 x 스칼라 : (2x3) x (2X3) -> 요소 간 연산  "
   ]
  },
  {
   "cell_type": "markdown",
   "metadata": {
    "deletable": true,
    "editable": true
   },
   "source": [
    "(2) m x n 행렬과 m x 1 벡터 간의 연산"
   ]
  },
  {
   "cell_type": "code",
   "execution_count": 73,
   "metadata": {
    "collapsed": false,
    "deletable": true,
    "editable": true
   },
   "outputs": [
    {
     "data": {
      "text/plain": [
       "array([[1, 2, 3],\n",
       "       [4, 6, 8]])"
      ]
     },
     "execution_count": 73,
     "metadata": {},
     "output_type": "execute_result"
    }
   ],
   "source": [
    "x = np.array([[1,2,3],[2,3,4]])    # 2 x 3\n",
    "y = np.array([[1],[2]])            # 2 x 1  ->  2 x 3    [[ 1 1 1],\n",
    "x * y                              #                     [ 2 2 2 ]] "
   ]
  },
  {
   "cell_type": "markdown",
   "metadata": {
    "deletable": true,
    "editable": true
   },
   "source": [
    "(3) m x n 행렬과 1 x n 벡터 간의 연산"
   ]
  },
  {
   "cell_type": "code",
   "execution_count": 76,
   "metadata": {
    "collapsed": false,
    "deletable": true,
    "editable": true
   },
   "outputs": [
    {
     "data": {
      "text/plain": [
       "array([[ 1,  4,  9],\n",
       "       [ 2,  6, 12]])"
      ]
     },
     "execution_count": 76,
     "metadata": {},
     "output_type": "execute_result"
    }
   ],
   "source": [
    "x = np.array([[1,2,3],[2,3,4]])    # 2 x 3\n",
    "y = np.array([1,2,3])              # 1 x 3  -> 2 x 3        [[1 2 3]]\n",
    "x * y                              #                         [1 2 3]]                 "
   ]
  },
  {
   "cell_type": "markdown",
   "metadata": {
    "deletable": true,
    "editable": true
   },
   "source": [
    "(4) m x 1 벡터와 1 x n 벡터 간의 연산"
   ]
  },
  {
   "cell_type": "code",
   "execution_count": 77,
   "metadata": {
    "collapsed": false,
    "deletable": true,
    "editable": true
   },
   "outputs": [
    {
     "data": {
      "text/plain": [
       "array([[1, 2],\n",
       "       [2, 4],\n",
       "       [3, 6]])"
      ]
     },
     "execution_count": 77,
     "metadata": {},
     "output_type": "execute_result"
    }
   ],
   "source": [
    "x = np.array([[1],[2],[3]])        # 3 x 1  ->  3 x 2\n",
    "y = np.array([1,2])                # 1 x 2  ->  3 x 2\n",
    "x * y                              # 3 x 2"
   ]
  },
  {
   "cell_type": "markdown",
   "metadata": {
    "deletable": true,
    "editable": true
   },
   "source": [
    "넘파이의 여러 함수들"
   ]
  },
  {
   "cell_type": "code",
   "execution_count": 78,
   "metadata": {
    "collapsed": false,
    "deletable": true,
    "editable": true,
    "scrolled": true
   },
   "outputs": [
    {
     "name": "stdout",
     "output_type": "stream",
     "text": [
      "[[ 0.  0.]\n",
      " [ 0.  0.]]\n",
      "[[ 1.  1.]]\n",
      "[[ 1.  0.]\n",
      " [ 0.  1.]]\n",
      "[[ 0.50817892  0.80927033]\n",
      " [ 0.78026816  0.66410341]]\n",
      "[[-0.34219269  0.35277084]\n",
      " [ 2.71157265  0.80198202]]\n"
     ]
    }
   ],
   "source": [
    "a = np.zeros((2,2))    # 모든 값이 0인 배열 생성\n",
    "print(a)               # 출력 \"[[ 0.  0.]\n",
    "                       #        [ 0.  0.]]\"\n",
    "\n",
    "b = np.ones((1,2))     # 모든 값이 1인 배열 생성\n",
    "print(b)               # 출력 \"[[ 1.  1.]]\"\n",
    "\n",
    "d = np.eye(2)          # 2x2 단위행렬 생성\n",
    "print(d)               # 출력 \"[[ 1.  0.]\n",
    "                       #        [ 0.  1.]]\"\n",
    "\n",
    "e = np.random.random((2,2))  # 임의의 값으로 채워진 배열 생성 # np.random.randn\n",
    "print(e)                     \n",
    "f = np.random.randn(2,2)\n",
    "print(f)                    "
   ]
  },
  {
   "cell_type": "code",
   "execution_count": 79,
   "metadata": {
    "collapsed": false,
    "deletable": true,
    "editable": true
   },
   "outputs": [
    {
     "name": "stdout",
     "output_type": "stream",
     "text": [
      "10\n",
      "[4 6]\n",
      "[3 7]\n"
     ]
    }
   ],
   "source": [
    "x = np.array([[1, 2],[3, 4]])\n",
    "print(np.sum(x))          # 모든 요소를 합한 값을 연산\n",
    "print(np.sum(x, axis=0))   # 각 열에 대한 합을 연산\n",
    "print(np.sum(x, axis=1))   # 각 행에 대한 합을 연산"
   ]
  },
  {
   "cell_type": "code",
   "execution_count": 81,
   "metadata": {
    "collapsed": false,
    "deletable": true,
    "editable": true,
    "scrolled": true
   },
   "outputs": [
    {
     "name": "stdout",
     "output_type": "stream",
     "text": [
      "[ 0  1  2  3  4  5  6  7  8  9 10 11 12 13 14]\n",
      "[[ 0  1  2  3  4]\n",
      " [ 5  6  7  8  9]\n",
      " [10 11 12 13 14]]\n"
     ]
    }
   ],
   "source": [
    "f = np.arange(15)\n",
    "print(f)\n",
    "g = f.reshape((3,5))    # np.reshape(f,(3,5))\n",
    "print(g)"
   ]
  },
  {
   "cell_type": "markdown",
   "metadata": {
    "deletable": true,
    "editable": true
   },
   "source": [
    "원소의 *인덱스*는 0부터 시작하는것 주의!"
   ]
  },
  {
   "cell_type": "code",
   "execution_count": 82,
   "metadata": {
    "collapsed": false,
    "deletable": true,
    "editable": true
   },
   "outputs": [
    {
     "name": "stdout",
     "output_type": "stream",
     "text": [
      "[[51 55]\n",
      " [14 19]\n",
      " [ 0  4]]\n"
     ]
    }
   ],
   "source": [
    "# 원소접근\n",
    "X = np.array([[51, 55],[14, 19],[0, 4]])\n",
    "print(X)"
   ]
  },
  {
   "cell_type": "code",
   "execution_count": 83,
   "metadata": {
    "collapsed": false,
    "deletable": true,
    "editable": true,
    "scrolled": true
   },
   "outputs": [
    {
     "data": {
      "text/plain": [
       "array([51, 55])"
      ]
     },
     "execution_count": 83,
     "metadata": {},
     "output_type": "execute_result"
    }
   ],
   "source": [
    "X[0]"
   ]
  },
  {
   "cell_type": "code",
   "execution_count": 84,
   "metadata": {
    "collapsed": false,
    "deletable": true,
    "editable": true
   },
   "outputs": [
    {
     "data": {
      "text/plain": [
       "55"
      ]
     },
     "execution_count": 84,
     "metadata": {},
     "output_type": "execute_result"
    }
   ],
   "source": [
    "X[0][1]"
   ]
  },
  {
   "cell_type": "code",
   "execution_count": 85,
   "metadata": {
    "collapsed": false,
    "deletable": true,
    "editable": true
   },
   "outputs": [
    {
     "name": "stdout",
     "output_type": "stream",
     "text": [
      "[[ 1  2  3  4]\n",
      " [ 5  6  7  8]\n",
      " [ 9 10 11 12]]\n"
     ]
    }
   ],
   "source": [
    "# 슬라이싱\n",
    "Y = np.array([[1,2,3,4], [5,6,7,8], [9,10,11,12]])\n",
    "print(Y)"
   ]
  },
  {
   "cell_type": "code",
   "execution_count": 86,
   "metadata": {
    "collapsed": false,
    "deletable": true,
    "editable": true
   },
   "outputs": [
    {
     "data": {
      "text/plain": [
       "array([ 2,  6, 10])"
      ]
     },
     "execution_count": 86,
     "metadata": {},
     "output_type": "execute_result"
    }
   ],
   "source": [
    "Y[:, 1]    # 모든 행과 1열"
   ]
  },
  {
   "cell_type": "code",
   "execution_count": 87,
   "metadata": {
    "collapsed": false,
    "deletable": true,
    "editable": true
   },
   "outputs": [
    {
     "data": {
      "text/plain": [
       "array([ 9, 10, 11, 12])"
      ]
     },
     "execution_count": 87,
     "metadata": {},
     "output_type": "execute_result"
    }
   ],
   "source": [
    "Y[2, :]   # 2행과 모든 열"
   ]
  },
  {
   "cell_type": "code",
   "execution_count": 88,
   "metadata": {
    "collapsed": false,
    "deletable": true,
    "editable": true
   },
   "outputs": [
    {
     "data": {
      "text/plain": [
       "array([[2, 3],\n",
       "       [6, 7]])"
      ]
     },
     "execution_count": 88,
     "metadata": {},
     "output_type": "execute_result"
    }
   ],
   "source": [
    "Y[:2, 1:3]    # 첫 두 행(:2)과 (1:3) 1,2열로 된 부분집합"
   ]
  },
  {
   "cell_type": "markdown",
   "metadata": {
    "deletable": true,
    "editable": true
   },
   "source": [
    "**matplotlib**  \n",
    "데이터를 시각화 하기위한 도구  \n",
    "https://matplotlib.org/"
   ]
  },
  {
   "cell_type": "markdown",
   "metadata": {
    "deletable": true,
    "editable": true
   },
   "source": [
    "**파일 읽고 쓰기, 예시**\n",
    "\n",
    "r\t읽기모드 - 파일을 읽기만 할 때 사용  \n",
    "w\t쓰기모드 - 파일에 내용을 쓸 때 사용  \n",
    "a\t추가모드 - 파일의 마지막에 새로운 내용을 추가 시킬 때 사용"
   ]
  },
  {
   "cell_type": "markdown",
   "metadata": {
    "deletable": true,
    "editable": true
   },
   "source": [
    "파일에서 번호를 읽어와서 train data, validation data (9:1)로 만들기"
   ]
  },
  {
   "cell_type": "code",
   "execution_count": 90,
   "metadata": {
    "collapsed": false,
    "deletable": true,
    "editable": true
   },
   "outputs": [
    {
     "name": "stdout",
     "output_type": "stream",
     "text": [
      "0\n",
      "\n",
      "1\n",
      "\n",
      "23\n",
      "\n",
      "24\n",
      "\n",
      "25\n",
      "\n",
      "26\n",
      "\n",
      "27\n",
      "\n",
      "30\n",
      "\n",
      "32\n",
      "\n",
      "34\n",
      "\n",
      "35\n",
      "\n",
      "38\n",
      "\n",
      "39\n",
      "\n",
      "44\n",
      "\n",
      "45\n",
      "\n",
      "48\n",
      "\n",
      "49\n",
      "\n",
      "51\n",
      "\n",
      "59\n",
      "\n",
      "62\n",
      "\n",
      "63\n",
      "\n",
      "64\n",
      "\n",
      "65\n",
      "\n",
      "70\n",
      "\n",
      "71\n",
      "\n",
      "74\n",
      "\n",
      "75\n",
      "\n",
      "82\n",
      "\n",
      "83\n",
      "\n",
      "87\n",
      "\n",
      "94\n",
      "\n",
      "98\n",
      "\n",
      "99\n",
      "\n",
      "103\n",
      "\n",
      "109\n",
      "\n",
      "112\n",
      "\n",
      "116\n",
      "\n",
      "118\n",
      "\n",
      "119\n",
      "\n",
      "127\n",
      "\n",
      "134\n",
      "\n",
      "135\n",
      "\n",
      "136\n",
      "\n",
      "137\n",
      "\n",
      "138\n",
      "\n",
      "142\n",
      "\n",
      "143\n",
      "\n",
      "145\n",
      "\n",
      "146\n",
      "\n",
      "149\n",
      "\n",
      "150\n",
      "\n",
      "157\n",
      "\n",
      "158\n",
      "\n",
      "159\n",
      "\n",
      "160\n",
      "\n",
      "167\n",
      "\n",
      "168\n",
      "\n",
      "173\n",
      "\n",
      "174\n",
      "\n",
      "175\n",
      "\n",
      "176\n",
      "\n",
      "180\n",
      "\n",
      "182\n",
      "\n",
      "199\n",
      "\n",
      "200\n",
      "\n",
      "219\n",
      "\n",
      "221\n",
      "\n",
      "224\n",
      "\n",
      "226\n",
      "\n",
      "231\n",
      "\n",
      "245\n",
      "\n",
      "248\n",
      "\n",
      "249\n",
      "\n",
      "255\n",
      "\n",
      "256\n",
      "\n",
      "261\n",
      "\n",
      "264\n",
      "\n",
      "265\n",
      "\n",
      "268\n",
      "\n",
      "269\n",
      "\n",
      "273\n",
      "\n",
      "275\n",
      "\n",
      "302\n",
      "\n",
      "322\n",
      "\n",
      "323\n",
      "\n",
      "324\n",
      "\n",
      "325\n",
      "\n",
      "327\n",
      "\n",
      "332\n",
      "\n",
      "337\n",
      "\n",
      "338\n",
      "\n",
      "348\n",
      "\n",
      "350\n",
      "\n",
      "356\n",
      "\n",
      "357\n",
      "\n",
      "358\n",
      "\n",
      "359\n",
      "\n",
      "374\n",
      "\n",
      "378\n",
      "\n",
      "389\n",
      "\n",
      "390\n",
      "\n",
      "396\n",
      "\n",
      "415\n",
      "\n",
      "416\n",
      "\n",
      "432\n",
      "\n",
      "442\n",
      "\n",
      "446\n",
      "\n",
      "457\n",
      "\n",
      "458\n",
      "\n",
      "465\n",
      "\n",
      "466\n",
      "\n",
      "470\n",
      "\n",
      "485\n",
      "\n",
      "486\n",
      "\n",
      "492\n",
      "\n",
      "506\n",
      "\n",
      "507\n",
      "\n",
      "508\n",
      "\n",
      "509\n",
      "\n",
      "510\n",
      "\n",
      "511\n",
      "\n",
      "\n",
      "\n",
      "\n",
      "\n",
      "\n",
      "\n",
      "\n",
      "\n",
      "\n",
      "\n",
      "\n",
      "\n",
      "\n",
      "\n",
      "\n",
      "\n",
      "\n",
      "\n",
      "\n",
      "\n",
      "\n",
      "\n",
      "\n",
      "\n",
      "\n",
      "\n",
      "\n",
      "\n",
      "\n",
      "\n",
      "\n",
      "\n",
      "\n",
      "\n",
      "\n",
      "\n",
      "\n",
      "\n",
      "\n",
      "\n",
      "\n",
      "\n",
      "\n",
      "\n",
      "\n",
      "\n",
      "\n",
      "\n",
      "\n",
      "\n",
      "\n",
      "\n",
      "\n",
      "\n",
      "\n",
      "\n",
      "\n",
      "\n",
      "\n",
      "\n",
      "\n",
      "\n",
      "\n",
      "\n",
      "\n",
      "\n",
      "\n",
      "\n",
      "\n",
      "\n",
      "\n",
      "\n",
      "\n",
      "\n",
      "\n",
      "\n",
      "\n",
      "\n"
     ]
    }
   ],
   "source": [
    "# readline 함수 이용\n",
    "f = open(\"C:\\\\example.txt\", 'r')\n",
    "\n",
    "while True:\n",
    "    line = f.readline() # 한줄씩 읽기\n",
    "    if not line: # readline은 더 이상 읽을 라인이 없을경우 None을 출력\n",
    "        break\n",
    "    print(line)\n",
    "f.close()"
   ]
  },
  {
   "cell_type": "code",
   "execution_count": 91,
   "metadata": {
    "collapsed": false,
    "deletable": true,
    "editable": true
   },
   "outputs": [
    {
     "name": "stdout",
     "output_type": "stream",
     "text": [
      "0\n",
      "\n",
      "1\n",
      "\n",
      "23\n",
      "\n",
      "24\n",
      "\n",
      "25\n",
      "\n",
      "26\n",
      "\n",
      "27\n",
      "\n",
      "30\n",
      "\n",
      "32\n",
      "\n",
      "34\n",
      "\n",
      "35\n",
      "\n",
      "38\n",
      "\n",
      "39\n",
      "\n",
      "44\n",
      "\n",
      "45\n",
      "\n",
      "48\n",
      "\n",
      "49\n",
      "\n",
      "51\n",
      "\n",
      "59\n",
      "\n",
      "62\n",
      "\n",
      "63\n",
      "\n",
      "64\n",
      "\n",
      "65\n",
      "\n",
      "70\n",
      "\n",
      "71\n",
      "\n",
      "74\n",
      "\n",
      "75\n",
      "\n",
      "82\n",
      "\n",
      "83\n",
      "\n",
      "87\n",
      "\n",
      "94\n",
      "\n",
      "98\n",
      "\n",
      "99\n",
      "\n",
      "103\n",
      "\n",
      "109\n",
      "\n",
      "112\n",
      "\n",
      "116\n",
      "\n",
      "118\n",
      "\n",
      "119\n",
      "\n",
      "127\n",
      "\n",
      "134\n",
      "\n",
      "135\n",
      "\n",
      "136\n",
      "\n",
      "137\n",
      "\n",
      "138\n",
      "\n",
      "142\n",
      "\n",
      "143\n",
      "\n",
      "145\n",
      "\n",
      "146\n",
      "\n",
      "149\n",
      "\n",
      "150\n",
      "\n",
      "157\n",
      "\n",
      "158\n",
      "\n",
      "159\n",
      "\n",
      "160\n",
      "\n",
      "167\n",
      "\n",
      "168\n",
      "\n",
      "173\n",
      "\n",
      "174\n",
      "\n",
      "175\n",
      "\n",
      "176\n",
      "\n",
      "180\n",
      "\n",
      "182\n",
      "\n",
      "199\n",
      "\n",
      "200\n",
      "\n",
      "219\n",
      "\n",
      "221\n",
      "\n",
      "224\n",
      "\n",
      "226\n",
      "\n",
      "231\n",
      "\n",
      "245\n",
      "\n",
      "248\n",
      "\n",
      "249\n",
      "\n",
      "255\n",
      "\n",
      "256\n",
      "\n",
      "261\n",
      "\n",
      "264\n",
      "\n",
      "265\n",
      "\n",
      "268\n",
      "\n",
      "269\n",
      "\n",
      "273\n",
      "\n",
      "275\n",
      "\n",
      "302\n",
      "\n",
      "322\n",
      "\n",
      "323\n",
      "\n",
      "324\n",
      "\n",
      "325\n",
      "\n",
      "327\n",
      "\n",
      "332\n",
      "\n",
      "337\n",
      "\n",
      "338\n",
      "\n",
      "348\n",
      "\n",
      "350\n",
      "\n",
      "356\n",
      "\n",
      "357\n",
      "\n",
      "358\n",
      "\n",
      "359\n",
      "\n",
      "374\n",
      "\n",
      "378\n",
      "\n",
      "389\n",
      "\n",
      "390\n",
      "\n",
      "396\n",
      "\n",
      "415\n",
      "\n",
      "416\n",
      "\n",
      "432\n",
      "\n",
      "442\n",
      "\n",
      "446\n",
      "\n",
      "457\n",
      "\n",
      "458\n",
      "\n",
      "465\n",
      "\n",
      "466\n",
      "\n",
      "470\n",
      "\n",
      "485\n",
      "\n",
      "486\n",
      "\n",
      "492\n",
      "\n",
      "506\n",
      "\n",
      "507\n",
      "\n",
      "508\n",
      "\n",
      "509\n",
      "\n",
      "510\n",
      "\n",
      "511\n",
      "\n",
      "\n",
      "\n",
      "\n",
      "\n",
      "\n",
      "\n",
      "\n",
      "\n",
      "\n",
      "\n",
      "\n",
      "\n",
      "\n",
      "\n",
      "\n",
      "\n",
      "\n",
      "\n",
      "\n",
      "\n",
      "\n",
      "\n",
      "\n",
      "\n",
      "\n",
      "\n",
      "\n",
      "\n",
      "\n",
      "\n",
      "\n",
      "\n",
      "\n",
      "\n",
      "\n",
      "\n",
      "\n",
      "\n",
      "\n",
      "\n",
      "\n",
      "\n",
      "\n",
      "\n",
      "\n",
      "\n",
      "\n",
      "\n",
      "\n",
      "\n",
      "\n",
      "\n",
      "\n",
      "\n",
      "\n",
      "\n",
      "\n",
      "\n",
      "\n",
      "\n",
      "\n",
      "\n",
      "\n",
      "\n",
      "\n",
      "\n",
      "\n",
      "\n",
      "\n",
      "\n",
      "\n",
      "\n",
      "\n",
      "\n",
      "\n",
      "\n",
      "\n",
      "\n"
     ]
    }
   ],
   "source": [
    "# readlines 함수 이용\n",
    "f = open(\"C:\\\\example.txt\", 'r') \n",
    "lines = f.readlines() # 파일의 모든 라인을 읽어서 각각의 줄을 요소로 갖는 리스트로 리턴\n",
    "\n",
    "for line in lines: \n",
    "    print(line) \n",
    "f.close()"
   ]
  },
  {
   "cell_type": "code",
   "execution_count": 92,
   "metadata": {
    "collapsed": false,
    "deletable": true,
    "editable": true,
    "scrolled": true
   },
   "outputs": [
    {
     "name": "stdout",
     "output_type": "stream",
     "text": [
      "['0', '1', '23', '24', '25', '26', '27', '30', '32', '34', '35', '38', '39', '44', '45', '48', '49', '51', '59', '62', '63', '64', '65', '70', '71', '74', '75', '82', '83', '87', '94', '98', '99', '103', '109', '112', '116', '118', '119', '127', '134', '135', '136', '137', '138', '142', '143', '145', '146', '149', '150', '157', '158', '159', '160', '167', '168', '173', '174', '175', '176', '180', '182', '199', '200', '219', '221', '224', '226', '231', '245', '248', '249', '255', '256', '261', '264', '265', '268', '269', '273', '275', '302', '322', '323', '324', '325', '327', '332', '337', '338', '348', '350', '356', '357', '358', '359', '374', '378', '389', '390', '396', '415', '416', '432', '442', '446', '457', '458', '465', '466', '470', '485', '486', '492', '506', '507', '508', '509', '510', '511']\n"
     ]
    }
   ],
   "source": [
    "# read 함수 이용\n",
    "f = open(\"C:\\\\example.txt\", 'r') \n",
    "line = f.read() # 파일의 내용 전체를 문자열로 리턴\n",
    "line_split = line.split()\n",
    "print(line_split)\n",
    "f.close()"
   ]
  },
  {
   "cell_type": "code",
   "execution_count": 93,
   "metadata": {
    "collapsed": false,
    "deletable": true,
    "editable": true
   },
   "outputs": [
    {
     "name": "stdout",
     "output_type": "stream",
     "text": [
      "[0, 1, 23, 24, 25, 26, 27, 30, 32, 34, 35, 38, 39, 44, 45, 48, 49, 51, 59, 62, 63, 64, 65, 70, 71, 74, 75, 82, 83, 87, 94, 98, 99, 103, 109, 112, 116, 118, 119, 127, 134, 135, 136, 137, 138, 142, 143, 145, 146, 149, 150, 157, 158, 159, 160, 167, 168, 173, 174, 175, 176, 180, 182, 199, 200, 219, 221, 224, 226, 231, 245, 248, 249, 255, 256, 261, 264, 265, 268, 269, 273, 275, 302, 322, 323, 324, 325, 327, 332, 337, 338, 348, 350, 356, 357, 358, 359, 374, 378, 389, 390, 396, 415, 416, 432, 442, 446, 457, 458, 465, 466, 470, 485, 486, 492, 506, 507, 508, 509, 510, 511]\n"
     ]
    }
   ],
   "source": [
    "line_split = list(map(int, line_split))\n",
    "print(line_split)"
   ]
  },
  {
   "cell_type": "code",
   "execution_count": 94,
   "metadata": {
    "collapsed": false,
    "deletable": true,
    "editable": true
   },
   "outputs": [
    {
     "name": "stdout",
     "output_type": "stream",
     "text": [
      "[160, 38, 264, 510, 378, 145, 35, 44, 136, 64, 82, 39, 248, 98, 173, 182, 457, 332, 62, 143, 138, 359, 65, 174, 325, 322, 32, 167, 118, 159, 432, 26, 357, 458, 256, 337, 134, 146, 350, 265, 23, 338, 466, 374, 415, 112, 59, 99, 269, 492, 226, 137, 0, 390, 48, 249, 255, 149, 511, 509, 470, 70, 416, 442, 45, 245, 221, 327, 135, 75, 34, 199, 396, 87, 508, 261, 180, 358, 324, 168, 74, 94, 63, 150, 224, 158, 83, 486, 465, 142, 268, 71, 506, 175, 219, 446, 127, 200, 27, 109, 30, 356, 485, 25, 116, 507, 348, 157, 51, 24, 119, 49, 103, 231, 273, 323, 1, 302, 275, 389, 176]\n"
     ]
    }
   ],
   "source": [
    "import numpy as np\n",
    "np.random.shuffle(line_split)\n",
    "print(line_split)"
   ]
  },
  {
   "cell_type": "code",
   "execution_count": 95,
   "metadata": {
    "collapsed": false,
    "deletable": true,
    "editable": true
   },
   "outputs": [
    {
     "name": "stdout",
     "output_type": "stream",
     "text": [
      "108.9\n",
      "108\n"
     ]
    }
   ],
   "source": [
    "a = len(line_split)*0.9\n",
    "print(a)\n",
    "sep = int(len(line_split)*0.9)\n",
    "print(sep)"
   ]
  },
  {
   "cell_type": "code",
   "execution_count": 96,
   "metadata": {
    "collapsed": false,
    "deletable": true,
    "editable": true
   },
   "outputs": [
    {
     "name": "stdout",
     "output_type": "stream",
     "text": [
      "108\n",
      "[160, 38, 264, 510, 378, 145, 35, 44, 136, 64, 82, 39, 248, 98, 173, 182, 457, 332, 62, 143, 138, 359, 65, 174, 325, 322, 32, 167, 118, 159, 432, 26, 357, 458, 256, 337, 134, 146, 350, 265, 23, 338, 466, 374, 415, 112, 59, 99, 269, 492, 226, 137, 0, 390, 48, 249, 255, 149, 511, 509, 470, 70, 416, 442, 45, 245, 221, 327, 135, 75, 34, 199, 396, 87, 508, 261, 180, 358, 324, 168, 74, 94, 63, 150, 224, 158, 83, 486, 465, 142, 268, 71, 506, 175, 219, 446, 127, 200, 27, 109, 30, 356, 485, 25, 116, 507, 348, 157]\n"
     ]
    }
   ],
   "source": [
    "print(len(line_split[:sep]))\n",
    "print(line_split[:sep])"
   ]
  },
  {
   "cell_type": "code",
   "execution_count": 97,
   "metadata": {
    "collapsed": false,
    "deletable": true,
    "editable": true
   },
   "outputs": [
    {
     "data": {
      "text/plain": [
       "13"
      ]
     },
     "execution_count": 97,
     "metadata": {},
     "output_type": "execute_result"
    }
   ],
   "source": [
    "len(line_split[sep:])"
   ]
  },
  {
   "cell_type": "markdown",
   "metadata": {
    "deletable": true,
    "editable": true
   },
   "source": [
    "with문을 이용하면 with 블록을 벗어나는 순간 열린 파일 객체 f가 자동으로 close되어 편리하다"
   ]
  },
  {
   "cell_type": "code",
   "execution_count": 98,
   "metadata": {
    "collapsed": true,
    "deletable": true,
    "editable": true
   },
   "outputs": [],
   "source": [
    "with open(\"C:\\\\sohee.txt\", \"w\") as f: \n",
    "    f.write(\"with를 사용하면 편리하다\") "
   ]
  },
  {
   "cell_type": "markdown",
   "metadata": {
    "deletable": true,
    "editable": true
   },
   "source": [
    "**이미지 불러오기 예시**"
   ]
  },
  {
   "cell_type": "code",
   "execution_count": 101,
   "metadata": {
    "collapsed": false,
    "deletable": true,
    "editable": true
   },
   "outputs": [
    {
     "name": "stdout",
     "output_type": "stream",
     "text": [
      "['Cute-Dog-Wallpaper.JPEG', 'dog.JPEG', 'dogs-wallpaper.JPEG']\n"
     ]
    }
   ],
   "source": [
    "from PIL import Image, ImageFilter # PIL은 이미지 라이브러리\n",
    "import os\n",
    "\n",
    "dir = 'C:\\\\Image_ex'\n",
    "file_list = os.listdir(dir) # 현재 폴더의 파일과 디렉토리를 리스트 형식으로 출력\n",
    "print(file_list)"
   ]
  },
  {
   "cell_type": "code",
   "execution_count": 102,
   "metadata": {
    "collapsed": false,
    "deletable": true,
    "editable": true
   },
   "outputs": [],
   "source": [
    "k = 0\n",
    "for images in file_list:\n",
    "    image_dir = 'C:\\\\Image_ex\\\\'\n",
    "    im = Image.open(image_dir + images)\n",
    "    img2 = im.resize((300,300))\n",
    "    img2.save(image_dir+str(k)+'.jpg', 'jpeg')\n",
    "    k=k+1"
   ]
  },
  {
   "cell_type": "code",
   "execution_count": null,
   "metadata": {
    "collapsed": true,
    "deletable": true,
    "editable": true
   },
   "outputs": [],
   "source": []
  },
  {
   "cell_type": "code",
   "execution_count": null,
   "metadata": {
    "collapsed": true,
    "deletable": true,
    "editable": true
   },
   "outputs": [],
   "source": []
  },
  {
   "cell_type": "markdown",
   "metadata": {
    "deletable": true,
    "editable": true
   },
   "source": [
    "https://programmers.co.kr/learn/courses/2"
   ]
  },
  {
   "cell_type": "code",
   "execution_count": null,
   "metadata": {
    "collapsed": true,
    "deletable": true,
    "editable": true
   },
   "outputs": [],
   "source": []
  }
 ],
 "metadata": {
  "anaconda-cloud": {},
  "kernelspec": {
   "display_name": "Python 3",
   "language": "python",
   "name": "python3"
  },
  "language_info": {
   "codemirror_mode": {
    "name": "ipython",
    "version": 3
   },
   "file_extension": ".py",
   "mimetype": "text/x-python",
   "name": "python",
   "nbconvert_exporter": "python",
   "pygments_lexer": "ipython3",
   "version": "3.6.0"
  }
 },
 "nbformat": 4,
 "nbformat_minor": 1
}
